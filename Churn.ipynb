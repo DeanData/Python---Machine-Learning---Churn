{
 "cells": [
  {
   "cell_type": "markdown",
   "metadata": {},
   "source": [
    "## CHURN PROJECT\n",
    "\n",
    "Dean Sharon"
   ]
  },
  {
   "cell_type": "markdown",
   "metadata": {},
   "source": [
    "# Load Data"
   ]
  },
  {
   "cell_type": "code",
   "execution_count": 1,
   "metadata": {},
   "outputs": [],
   "source": [
    "import numpy as np\n",
    "import pandas as pd\n",
    "import matplotlib.pyplot as plt\n",
    "import seaborn as sns"
   ]
  },
  {
   "cell_type": "code",
   "execution_count": 1,
   "metadata": {},
   "outputs": [
    {
     "data": {
      "text/plain": [
       "'C:\\\\Users\\\\dean8\\\\OneDrive\\\\Big Data Analyst\\\\Pyhton - Anaconda'"
      ]
     },
     "execution_count": 1,
     "metadata": {},
     "output_type": "execute_result"
    }
   ],
   "source": [
    "pwd"
   ]
  },
  {
   "cell_type": "code",
   "execution_count": 3,
   "metadata": {},
   "outputs": [],
   "source": [
    "### change this to the path you downloded the file\n",
    "path = \"C:\\\\Users\\\\dean8\\\\OneDrive\\\\Big Data Analyst\\\\Pyhton - Anaconda\""
   ]
  },
  {
   "cell_type": "code",
   "execution_count": 4,
   "metadata": {},
   "outputs": [],
   "source": [
    "dlo = pd.read_csv(\"%s\\\\churn.csv\" % path).rename(columns=str.lower)"
   ]
  },
  {
   "cell_type": "code",
   "execution_count": 5,
   "metadata": {},
   "outputs": [
    {
     "data": {
      "text/html": [
       "<div>\n",
       "<style scoped>\n",
       "    .dataframe tbody tr th:only-of-type {\n",
       "        vertical-align: middle;\n",
       "    }\n",
       "\n",
       "    .dataframe tbody tr th {\n",
       "        vertical-align: top;\n",
       "    }\n",
       "\n",
       "    .dataframe thead th {\n",
       "        text-align: right;\n",
       "    }\n",
       "</style>\n",
       "<table border=\"1\" class=\"dataframe\">\n",
       "  <thead>\n",
       "    <tr style=\"text-align: right;\">\n",
       "      <th></th>\n",
       "      <th>customerid</th>\n",
       "      <th>gender</th>\n",
       "      <th>seniorcitizen</th>\n",
       "      <th>partner</th>\n",
       "      <th>dependents</th>\n",
       "      <th>tenure</th>\n",
       "      <th>phoneservice</th>\n",
       "      <th>multiplelines</th>\n",
       "      <th>internetservice</th>\n",
       "      <th>onlinesecurity</th>\n",
       "      <th>...</th>\n",
       "      <th>deviceprotection</th>\n",
       "      <th>techsupport</th>\n",
       "      <th>streamingtv</th>\n",
       "      <th>streamingmovies</th>\n",
       "      <th>contract</th>\n",
       "      <th>paperlessbilling</th>\n",
       "      <th>paymentmethod</th>\n",
       "      <th>monthlycharges</th>\n",
       "      <th>totalcharges</th>\n",
       "      <th>churn</th>\n",
       "    </tr>\n",
       "  </thead>\n",
       "  <tbody>\n",
       "    <tr>\n",
       "      <th>0</th>\n",
       "      <td>7590-VHVEG</td>\n",
       "      <td>Female</td>\n",
       "      <td>0</td>\n",
       "      <td>Yes</td>\n",
       "      <td>No</td>\n",
       "      <td>1</td>\n",
       "      <td>No</td>\n",
       "      <td>No phone service</td>\n",
       "      <td>DSL</td>\n",
       "      <td>No</td>\n",
       "      <td>...</td>\n",
       "      <td>No</td>\n",
       "      <td>No</td>\n",
       "      <td>No</td>\n",
       "      <td>No</td>\n",
       "      <td>Month-to-month</td>\n",
       "      <td>Yes</td>\n",
       "      <td>Electronic check</td>\n",
       "      <td>29.85</td>\n",
       "      <td>29.85</td>\n",
       "      <td>No</td>\n",
       "    </tr>\n",
       "    <tr>\n",
       "      <th>1</th>\n",
       "      <td>5575-GNVDE</td>\n",
       "      <td>Male</td>\n",
       "      <td>0</td>\n",
       "      <td>No</td>\n",
       "      <td>No</td>\n",
       "      <td>34</td>\n",
       "      <td>Yes</td>\n",
       "      <td>No</td>\n",
       "      <td>DSL</td>\n",
       "      <td>Yes</td>\n",
       "      <td>...</td>\n",
       "      <td>Yes</td>\n",
       "      <td>No</td>\n",
       "      <td>No</td>\n",
       "      <td>No</td>\n",
       "      <td>One year</td>\n",
       "      <td>No</td>\n",
       "      <td>Mailed check</td>\n",
       "      <td>56.95</td>\n",
       "      <td>1889.5</td>\n",
       "      <td>No</td>\n",
       "    </tr>\n",
       "    <tr>\n",
       "      <th>2</th>\n",
       "      <td>3668-QPYBK</td>\n",
       "      <td>Male</td>\n",
       "      <td>0</td>\n",
       "      <td>No</td>\n",
       "      <td>No</td>\n",
       "      <td>2</td>\n",
       "      <td>Yes</td>\n",
       "      <td>No</td>\n",
       "      <td>DSL</td>\n",
       "      <td>Yes</td>\n",
       "      <td>...</td>\n",
       "      <td>No</td>\n",
       "      <td>No</td>\n",
       "      <td>No</td>\n",
       "      <td>No</td>\n",
       "      <td>Month-to-month</td>\n",
       "      <td>Yes</td>\n",
       "      <td>Mailed check</td>\n",
       "      <td>53.85</td>\n",
       "      <td>108.15</td>\n",
       "      <td>Yes</td>\n",
       "    </tr>\n",
       "    <tr>\n",
       "      <th>3</th>\n",
       "      <td>7795-CFOCW</td>\n",
       "      <td>Male</td>\n",
       "      <td>0</td>\n",
       "      <td>No</td>\n",
       "      <td>No</td>\n",
       "      <td>45</td>\n",
       "      <td>No</td>\n",
       "      <td>No phone service</td>\n",
       "      <td>DSL</td>\n",
       "      <td>Yes</td>\n",
       "      <td>...</td>\n",
       "      <td>Yes</td>\n",
       "      <td>Yes</td>\n",
       "      <td>No</td>\n",
       "      <td>No</td>\n",
       "      <td>One year</td>\n",
       "      <td>No</td>\n",
       "      <td>Bank transfer (automatic)</td>\n",
       "      <td>42.30</td>\n",
       "      <td>1840.75</td>\n",
       "      <td>No</td>\n",
       "    </tr>\n",
       "    <tr>\n",
       "      <th>4</th>\n",
       "      <td>9237-HQITU</td>\n",
       "      <td>Female</td>\n",
       "      <td>0</td>\n",
       "      <td>No</td>\n",
       "      <td>No</td>\n",
       "      <td>2</td>\n",
       "      <td>Yes</td>\n",
       "      <td>No</td>\n",
       "      <td>Fiber optic</td>\n",
       "      <td>No</td>\n",
       "      <td>...</td>\n",
       "      <td>No</td>\n",
       "      <td>No</td>\n",
       "      <td>No</td>\n",
       "      <td>No</td>\n",
       "      <td>Month-to-month</td>\n",
       "      <td>Yes</td>\n",
       "      <td>Electronic check</td>\n",
       "      <td>70.70</td>\n",
       "      <td>151.65</td>\n",
       "      <td>Yes</td>\n",
       "    </tr>\n",
       "    <tr>\n",
       "      <th>...</th>\n",
       "      <td>...</td>\n",
       "      <td>...</td>\n",
       "      <td>...</td>\n",
       "      <td>...</td>\n",
       "      <td>...</td>\n",
       "      <td>...</td>\n",
       "      <td>...</td>\n",
       "      <td>...</td>\n",
       "      <td>...</td>\n",
       "      <td>...</td>\n",
       "      <td>...</td>\n",
       "      <td>...</td>\n",
       "      <td>...</td>\n",
       "      <td>...</td>\n",
       "      <td>...</td>\n",
       "      <td>...</td>\n",
       "      <td>...</td>\n",
       "      <td>...</td>\n",
       "      <td>...</td>\n",
       "      <td>...</td>\n",
       "      <td>...</td>\n",
       "    </tr>\n",
       "    <tr>\n",
       "      <th>7038</th>\n",
       "      <td>6840-RESVB</td>\n",
       "      <td>Male</td>\n",
       "      <td>0</td>\n",
       "      <td>Yes</td>\n",
       "      <td>Yes</td>\n",
       "      <td>24</td>\n",
       "      <td>Yes</td>\n",
       "      <td>Yes</td>\n",
       "      <td>DSL</td>\n",
       "      <td>Yes</td>\n",
       "      <td>...</td>\n",
       "      <td>Yes</td>\n",
       "      <td>Yes</td>\n",
       "      <td>Yes</td>\n",
       "      <td>Yes</td>\n",
       "      <td>One year</td>\n",
       "      <td>Yes</td>\n",
       "      <td>Mailed check</td>\n",
       "      <td>84.80</td>\n",
       "      <td>1990.5</td>\n",
       "      <td>No</td>\n",
       "    </tr>\n",
       "    <tr>\n",
       "      <th>7039</th>\n",
       "      <td>2234-XADUH</td>\n",
       "      <td>Female</td>\n",
       "      <td>0</td>\n",
       "      <td>Yes</td>\n",
       "      <td>Yes</td>\n",
       "      <td>72</td>\n",
       "      <td>Yes</td>\n",
       "      <td>Yes</td>\n",
       "      <td>Fiber optic</td>\n",
       "      <td>No</td>\n",
       "      <td>...</td>\n",
       "      <td>Yes</td>\n",
       "      <td>No</td>\n",
       "      <td>Yes</td>\n",
       "      <td>Yes</td>\n",
       "      <td>One year</td>\n",
       "      <td>Yes</td>\n",
       "      <td>Credit card (automatic)</td>\n",
       "      <td>103.20</td>\n",
       "      <td>7362.9</td>\n",
       "      <td>No</td>\n",
       "    </tr>\n",
       "    <tr>\n",
       "      <th>7040</th>\n",
       "      <td>4801-JZAZL</td>\n",
       "      <td>Female</td>\n",
       "      <td>0</td>\n",
       "      <td>Yes</td>\n",
       "      <td>Yes</td>\n",
       "      <td>11</td>\n",
       "      <td>No</td>\n",
       "      <td>No phone service</td>\n",
       "      <td>DSL</td>\n",
       "      <td>Yes</td>\n",
       "      <td>...</td>\n",
       "      <td>No</td>\n",
       "      <td>No</td>\n",
       "      <td>No</td>\n",
       "      <td>No</td>\n",
       "      <td>Month-to-month</td>\n",
       "      <td>Yes</td>\n",
       "      <td>Electronic check</td>\n",
       "      <td>29.60</td>\n",
       "      <td>346.45</td>\n",
       "      <td>No</td>\n",
       "    </tr>\n",
       "    <tr>\n",
       "      <th>7041</th>\n",
       "      <td>8361-LTMKD</td>\n",
       "      <td>Male</td>\n",
       "      <td>1</td>\n",
       "      <td>Yes</td>\n",
       "      <td>No</td>\n",
       "      <td>4</td>\n",
       "      <td>Yes</td>\n",
       "      <td>Yes</td>\n",
       "      <td>Fiber optic</td>\n",
       "      <td>No</td>\n",
       "      <td>...</td>\n",
       "      <td>No</td>\n",
       "      <td>No</td>\n",
       "      <td>No</td>\n",
       "      <td>No</td>\n",
       "      <td>Month-to-month</td>\n",
       "      <td>Yes</td>\n",
       "      <td>Mailed check</td>\n",
       "      <td>74.40</td>\n",
       "      <td>306.6</td>\n",
       "      <td>Yes</td>\n",
       "    </tr>\n",
       "    <tr>\n",
       "      <th>7042</th>\n",
       "      <td>3186-AJIEK</td>\n",
       "      <td>Male</td>\n",
       "      <td>0</td>\n",
       "      <td>No</td>\n",
       "      <td>No</td>\n",
       "      <td>66</td>\n",
       "      <td>Yes</td>\n",
       "      <td>No</td>\n",
       "      <td>Fiber optic</td>\n",
       "      <td>Yes</td>\n",
       "      <td>...</td>\n",
       "      <td>Yes</td>\n",
       "      <td>Yes</td>\n",
       "      <td>Yes</td>\n",
       "      <td>Yes</td>\n",
       "      <td>Two year</td>\n",
       "      <td>Yes</td>\n",
       "      <td>Bank transfer (automatic)</td>\n",
       "      <td>105.65</td>\n",
       "      <td>6844.5</td>\n",
       "      <td>No</td>\n",
       "    </tr>\n",
       "  </tbody>\n",
       "</table>\n",
       "<p>7043 rows × 21 columns</p>\n",
       "</div>"
      ],
      "text/plain": [
       "      customerid  gender  seniorcitizen partner dependents  tenure  \\\n",
       "0     7590-VHVEG  Female              0     Yes         No       1   \n",
       "1     5575-GNVDE    Male              0      No         No      34   \n",
       "2     3668-QPYBK    Male              0      No         No       2   \n",
       "3     7795-CFOCW    Male              0      No         No      45   \n",
       "4     9237-HQITU  Female              0      No         No       2   \n",
       "...          ...     ...            ...     ...        ...     ...   \n",
       "7038  6840-RESVB    Male              0     Yes        Yes      24   \n",
       "7039  2234-XADUH  Female              0     Yes        Yes      72   \n",
       "7040  4801-JZAZL  Female              0     Yes        Yes      11   \n",
       "7041  8361-LTMKD    Male              1     Yes         No       4   \n",
       "7042  3186-AJIEK    Male              0      No         No      66   \n",
       "\n",
       "     phoneservice     multiplelines internetservice onlinesecurity  ...  \\\n",
       "0              No  No phone service             DSL             No  ...   \n",
       "1             Yes                No             DSL            Yes  ...   \n",
       "2             Yes                No             DSL            Yes  ...   \n",
       "3              No  No phone service             DSL            Yes  ...   \n",
       "4             Yes                No     Fiber optic             No  ...   \n",
       "...           ...               ...             ...            ...  ...   \n",
       "7038          Yes               Yes             DSL            Yes  ...   \n",
       "7039          Yes               Yes     Fiber optic             No  ...   \n",
       "7040           No  No phone service             DSL            Yes  ...   \n",
       "7041          Yes               Yes     Fiber optic             No  ...   \n",
       "7042          Yes                No     Fiber optic            Yes  ...   \n",
       "\n",
       "     deviceprotection techsupport streamingtv streamingmovies        contract  \\\n",
       "0                  No          No          No              No  Month-to-month   \n",
       "1                 Yes          No          No              No        One year   \n",
       "2                  No          No          No              No  Month-to-month   \n",
       "3                 Yes         Yes          No              No        One year   \n",
       "4                  No          No          No              No  Month-to-month   \n",
       "...               ...         ...         ...             ...             ...   \n",
       "7038              Yes         Yes         Yes             Yes        One year   \n",
       "7039              Yes          No         Yes             Yes        One year   \n",
       "7040               No          No          No              No  Month-to-month   \n",
       "7041               No          No          No              No  Month-to-month   \n",
       "7042              Yes         Yes         Yes             Yes        Two year   \n",
       "\n",
       "     paperlessbilling              paymentmethod monthlycharges  totalcharges  \\\n",
       "0                 Yes           Electronic check          29.85         29.85   \n",
       "1                  No               Mailed check          56.95        1889.5   \n",
       "2                 Yes               Mailed check          53.85        108.15   \n",
       "3                  No  Bank transfer (automatic)          42.30       1840.75   \n",
       "4                 Yes           Electronic check          70.70        151.65   \n",
       "...               ...                        ...            ...           ...   \n",
       "7038              Yes               Mailed check          84.80        1990.5   \n",
       "7039              Yes    Credit card (automatic)         103.20        7362.9   \n",
       "7040              Yes           Electronic check          29.60        346.45   \n",
       "7041              Yes               Mailed check          74.40         306.6   \n",
       "7042              Yes  Bank transfer (automatic)         105.65        6844.5   \n",
       "\n",
       "     churn  \n",
       "0       No  \n",
       "1       No  \n",
       "2      Yes  \n",
       "3       No  \n",
       "4      Yes  \n",
       "...    ...  \n",
       "7038    No  \n",
       "7039    No  \n",
       "7040    No  \n",
       "7041   Yes  \n",
       "7042    No  \n",
       "\n",
       "[7043 rows x 21 columns]"
      ]
     },
     "execution_count": 5,
     "metadata": {},
     "output_type": "execute_result"
    }
   ],
   "source": [
    "dlo"
   ]
  },
  {
   "cell_type": "markdown",
   "metadata": {},
   "source": [
    "# Data Cleaning\n",
    "\n",
    "orginaized data - Drop, Dummies, 0/1:"
   ]
  },
  {
   "cell_type": "code",
   "execution_count": 6,
   "metadata": {},
   "outputs": [],
   "source": [
    "#drop:\n",
    "dlo = dlo.drop(['customerid','phoneservice',], axis=1)\n",
    "\n",
    "\n",
    "#Get dummies\n",
    "dlo = pd.get_dummies(dlo, columns=['multiplelines','internetservice','contract']).rename(columns=str.lower)\n",
    "\n",
    "\n",
    "\n",
    "dlo['customer_num'] = (dlo.index +1)\n",
    "\n",
    "# 0\\1:\n",
    "dlo.loc[dlo.gender == 'Female', 'gender'] = 0\n",
    "dlo.loc[dlo.gender == 'Male', 'gender'] = 1\n",
    "dlo = dlo.astype({\"gender\": 'int64'})\n",
    "dlo = dlo.rename({'gender': 'gender_male'}, axis='columns')\n",
    "\n",
    "dlo.loc[dlo.partner == 'No', 'partner'] = 0\n",
    "dlo.loc[dlo.partner == 'Yes', 'partner'] = 1\n",
    "dlo = dlo.astype({\"partner\": 'int64'})\n",
    "\n",
    "dlo.loc[dlo.dependents == 'No', 'dependents'] = 0\n",
    "dlo.loc[dlo.dependents == 'Yes', 'dependents'] = 1\n",
    "dlo = dlo.astype({\"dependents\": 'int64'})\n",
    "\n",
    "dlo.loc[dlo.onlinesecurity == 'No internet service', 'onlinesecurity'] = 0\n",
    "dlo.loc[dlo.onlinesecurity == 'No', 'onlinesecurity'] = 0\n",
    "dlo.loc[dlo.onlinesecurity == 'Yes', 'onlinesecurity'] = 1\n",
    "dlo = dlo.astype({\"onlinesecurity\": 'int64'})\n",
    "\n",
    "dlo.loc[dlo.onlinebackup == 'No internet service', 'onlinebackup'] = 0\n",
    "dlo.loc[dlo.onlinebackup == 'No', 'onlinebackup'] = 0\n",
    "dlo.loc[dlo.onlinebackup == 'Yes', 'onlinebackup'] = 1\n",
    "dlo = dlo.astype({\"onlinebackup\": 'int64'})\n",
    "\n",
    "dlo.loc[dlo.deviceprotection == 'No internet service', 'deviceprotection'] = 0\n",
    "dlo.loc[dlo.deviceprotection == 'No', 'deviceprotection'] = 0\n",
    "dlo.loc[dlo.deviceprotection == 'Yes', 'deviceprotection'] = 1\n",
    "dlo = dlo.astype({\"deviceprotection\": 'int64'})\n",
    "\n",
    "dlo.loc[dlo.techsupport == 'No internet service', 'techsupport'] = 0\n",
    "dlo.loc[dlo.techsupport == 'No', 'techsupport'] = 0\n",
    "dlo.loc[dlo.techsupport == 'Yes', 'techsupport'] = 1\n",
    "dlo = dlo.astype({\"techsupport\": 'int64'})\n",
    "\n",
    "dlo.loc[dlo.streamingtv == 'No internet service', 'streamingtv'] = 0\n",
    "dlo.loc[dlo.streamingtv == 'No', 'streamingtv'] = 0\n",
    "dlo.loc[dlo.streamingtv == 'Yes', 'streamingtv'] = 1\n",
    "dlo = dlo.astype({\"streamingtv\": 'int64'})\n",
    "\n",
    "dlo.loc[dlo.streamingmovies == 'No internet service', 'streamingmovies'] = 0\n",
    "dlo.loc[dlo.streamingmovies == 'No', 'streamingmovies'] = 0\n",
    "dlo.loc[dlo.streamingmovies == 'Yes', 'streamingmovies'] = 1\n",
    "dlo = dlo.astype({\"streamingmovies\": 'int64'})\n",
    "\n",
    "dlo.loc[dlo.paperlessbilling == 'No', 'paperlessbilling'] = 0\n",
    "dlo.loc[dlo.paperlessbilling == 'Yes', 'paperlessbilling'] = 1\n",
    "dlo = dlo.astype({\"paperlessbilling\": 'int64'})\n",
    "\n",
    "dlo.loc[dlo.churn == 'No', 'churn'] = 0\n",
    "dlo.loc[dlo.churn == 'Yes', 'churn'] = 1\n",
    "dlo = dlo.astype({\"churn\": 'int64'})"
   ]
  },
  {
   "cell_type": "markdown",
   "metadata": {},
   "source": [
    "Add 2 columns"
   ]
  },
  {
   "cell_type": "code",
   "execution_count": 7,
   "metadata": {},
   "outputs": [
    {
     "data": {
      "text/html": [
       "<div>\n",
       "<style scoped>\n",
       "    .dataframe tbody tr th:only-of-type {\n",
       "        vertical-align: middle;\n",
       "    }\n",
       "\n",
       "    .dataframe tbody tr th {\n",
       "        vertical-align: top;\n",
       "    }\n",
       "\n",
       "    .dataframe thead th {\n",
       "        text-align: right;\n",
       "    }\n",
       "</style>\n",
       "<table border=\"1\" class=\"dataframe\">\n",
       "  <thead>\n",
       "    <tr style=\"text-align: right;\">\n",
       "      <th></th>\n",
       "      <th>gender_male</th>\n",
       "      <th>seniorcitizen</th>\n",
       "      <th>partner</th>\n",
       "      <th>dependents</th>\n",
       "      <th>tenure</th>\n",
       "      <th>onlinesecurity</th>\n",
       "      <th>onlinebackup</th>\n",
       "      <th>deviceprotection</th>\n",
       "      <th>techsupport</th>\n",
       "      <th>streamingtv</th>\n",
       "      <th>...</th>\n",
       "      <th>multiplelines_no</th>\n",
       "      <th>multiplelines_no phone service</th>\n",
       "      <th>multiplelines_yes</th>\n",
       "      <th>internetservice_dsl</th>\n",
       "      <th>internetservice_fiber optic</th>\n",
       "      <th>internetservice_no</th>\n",
       "      <th>contract_month-to-month</th>\n",
       "      <th>contract_one year</th>\n",
       "      <th>contract_two year</th>\n",
       "      <th>customer_num</th>\n",
       "    </tr>\n",
       "  </thead>\n",
       "  <tbody>\n",
       "    <tr>\n",
       "      <th>0</th>\n",
       "      <td>0</td>\n",
       "      <td>0</td>\n",
       "      <td>1</td>\n",
       "      <td>0</td>\n",
       "      <td>1</td>\n",
       "      <td>0</td>\n",
       "      <td>1</td>\n",
       "      <td>0</td>\n",
       "      <td>0</td>\n",
       "      <td>0</td>\n",
       "      <td>...</td>\n",
       "      <td>0</td>\n",
       "      <td>1</td>\n",
       "      <td>0</td>\n",
       "      <td>1</td>\n",
       "      <td>0</td>\n",
       "      <td>0</td>\n",
       "      <td>1</td>\n",
       "      <td>0</td>\n",
       "      <td>0</td>\n",
       "      <td>1</td>\n",
       "    </tr>\n",
       "    <tr>\n",
       "      <th>1</th>\n",
       "      <td>1</td>\n",
       "      <td>0</td>\n",
       "      <td>0</td>\n",
       "      <td>0</td>\n",
       "      <td>34</td>\n",
       "      <td>1</td>\n",
       "      <td>0</td>\n",
       "      <td>1</td>\n",
       "      <td>0</td>\n",
       "      <td>0</td>\n",
       "      <td>...</td>\n",
       "      <td>1</td>\n",
       "      <td>0</td>\n",
       "      <td>0</td>\n",
       "      <td>1</td>\n",
       "      <td>0</td>\n",
       "      <td>0</td>\n",
       "      <td>0</td>\n",
       "      <td>1</td>\n",
       "      <td>0</td>\n",
       "      <td>2</td>\n",
       "    </tr>\n",
       "    <tr>\n",
       "      <th>2</th>\n",
       "      <td>1</td>\n",
       "      <td>0</td>\n",
       "      <td>0</td>\n",
       "      <td>0</td>\n",
       "      <td>2</td>\n",
       "      <td>1</td>\n",
       "      <td>1</td>\n",
       "      <td>0</td>\n",
       "      <td>0</td>\n",
       "      <td>0</td>\n",
       "      <td>...</td>\n",
       "      <td>1</td>\n",
       "      <td>0</td>\n",
       "      <td>0</td>\n",
       "      <td>1</td>\n",
       "      <td>0</td>\n",
       "      <td>0</td>\n",
       "      <td>1</td>\n",
       "      <td>0</td>\n",
       "      <td>0</td>\n",
       "      <td>3</td>\n",
       "    </tr>\n",
       "    <tr>\n",
       "      <th>3</th>\n",
       "      <td>1</td>\n",
       "      <td>0</td>\n",
       "      <td>0</td>\n",
       "      <td>0</td>\n",
       "      <td>45</td>\n",
       "      <td>1</td>\n",
       "      <td>0</td>\n",
       "      <td>1</td>\n",
       "      <td>1</td>\n",
       "      <td>0</td>\n",
       "      <td>...</td>\n",
       "      <td>0</td>\n",
       "      <td>1</td>\n",
       "      <td>0</td>\n",
       "      <td>1</td>\n",
       "      <td>0</td>\n",
       "      <td>0</td>\n",
       "      <td>0</td>\n",
       "      <td>1</td>\n",
       "      <td>0</td>\n",
       "      <td>4</td>\n",
       "    </tr>\n",
       "    <tr>\n",
       "      <th>4</th>\n",
       "      <td>0</td>\n",
       "      <td>0</td>\n",
       "      <td>0</td>\n",
       "      <td>0</td>\n",
       "      <td>2</td>\n",
       "      <td>0</td>\n",
       "      <td>0</td>\n",
       "      <td>0</td>\n",
       "      <td>0</td>\n",
       "      <td>0</td>\n",
       "      <td>...</td>\n",
       "      <td>1</td>\n",
       "      <td>0</td>\n",
       "      <td>0</td>\n",
       "      <td>0</td>\n",
       "      <td>1</td>\n",
       "      <td>0</td>\n",
       "      <td>1</td>\n",
       "      <td>0</td>\n",
       "      <td>0</td>\n",
       "      <td>5</td>\n",
       "    </tr>\n",
       "  </tbody>\n",
       "</table>\n",
       "<p>5 rows × 26 columns</p>\n",
       "</div>"
      ],
      "text/plain": [
       "   gender_male  seniorcitizen  partner  dependents  tenure  onlinesecurity  \\\n",
       "0            0              0        1           0       1               0   \n",
       "1            1              0        0           0      34               1   \n",
       "2            1              0        0           0       2               1   \n",
       "3            1              0        0           0      45               1   \n",
       "4            0              0        0           0       2               0   \n",
       "\n",
       "   onlinebackup  deviceprotection  techsupport  streamingtv  ...  \\\n",
       "0             1                 0            0            0  ...   \n",
       "1             0                 1            0            0  ...   \n",
       "2             1                 0            0            0  ...   \n",
       "3             0                 1            1            0  ...   \n",
       "4             0                 0            0            0  ...   \n",
       "\n",
       "   multiplelines_no  multiplelines_no phone service multiplelines_yes  \\\n",
       "0                 0                               1                 0   \n",
       "1                 1                               0                 0   \n",
       "2                 1                               0                 0   \n",
       "3                 0                               1                 0   \n",
       "4                 1                               0                 0   \n",
       "\n",
       "   internetservice_dsl internetservice_fiber optic  internetservice_no  \\\n",
       "0                    1                           0                   0   \n",
       "1                    1                           0                   0   \n",
       "2                    1                           0                   0   \n",
       "3                    1                           0                   0   \n",
       "4                    0                           1                   0   \n",
       "\n",
       "   contract_month-to-month  contract_one year  contract_two year  customer_num  \n",
       "0                        1                  0                  0             1  \n",
       "1                        0                  1                  0             2  \n",
       "2                        1                  0                  0             3  \n",
       "3                        0                  1                  0             4  \n",
       "4                        1                  0                  0             5  \n",
       "\n",
       "[5 rows x 26 columns]"
      ]
     },
     "execution_count": 7,
     "metadata": {},
     "output_type": "execute_result"
    }
   ],
   "source": [
    "dlo.head()"
   ]
  },
  {
   "cell_type": "code",
   "execution_count": 8,
   "metadata": {},
   "outputs": [
    {
     "data": {
      "text/plain": [
       "Index(['gender_male', 'seniorcitizen', 'partner', 'dependents', 'tenure',\n",
       "       'onlinesecurity', 'onlinebackup', 'deviceprotection', 'techsupport',\n",
       "       'streamingtv', 'streamingmovies', 'paperlessbilling', 'paymentmethod',\n",
       "       'monthlycharges', 'totalcharges', 'churn', 'multiplelines_no',\n",
       "       'multiplelines_no phone service', 'multiplelines_yes',\n",
       "       'internetservice_dsl', 'internetservice_fiber optic',\n",
       "       'internetservice_no', 'contract_month-to-month', 'contract_one year',\n",
       "       'contract_two year', 'customer_num'],\n",
       "      dtype='object')"
      ]
     },
     "execution_count": 8,
     "metadata": {},
     "output_type": "execute_result"
    }
   ],
   "source": [
    "dlo.columns"
   ]
  },
  {
   "cell_type": "code",
   "execution_count": 9,
   "metadata": {},
   "outputs": [
    {
     "data": {
      "text/html": [
       "<div>\n",
       "<style scoped>\n",
       "    .dataframe tbody tr th:only-of-type {\n",
       "        vertical-align: middle;\n",
       "    }\n",
       "\n",
       "    .dataframe tbody tr th {\n",
       "        vertical-align: top;\n",
       "    }\n",
       "\n",
       "    .dataframe thead th {\n",
       "        text-align: right;\n",
       "    }\n",
       "</style>\n",
       "<table border=\"1\" class=\"dataframe\">\n",
       "  <thead>\n",
       "    <tr style=\"text-align: right;\">\n",
       "      <th></th>\n",
       "      <th>customer_num</th>\n",
       "      <th>gender_male</th>\n",
       "      <th>seniorcitizen</th>\n",
       "      <th>partner</th>\n",
       "      <th>dependents</th>\n",
       "      <th>tenure</th>\n",
       "      <th>onlinesecurity</th>\n",
       "      <th>onlinebackup</th>\n",
       "      <th>deviceprotection</th>\n",
       "      <th>techsupport</th>\n",
       "      <th>...</th>\n",
       "      <th>multiplelines_no</th>\n",
       "      <th>multiplelines_no phone service</th>\n",
       "      <th>multiplelines_yes</th>\n",
       "      <th>internetservice_dsl</th>\n",
       "      <th>internetservice_fiber optic</th>\n",
       "      <th>internetservice_no</th>\n",
       "      <th>contract_month-to-month</th>\n",
       "      <th>contract_one year</th>\n",
       "      <th>contract_two year</th>\n",
       "      <th>monthlycharges</th>\n",
       "    </tr>\n",
       "  </thead>\n",
       "  <tbody>\n",
       "    <tr>\n",
       "      <th>0</th>\n",
       "      <td>1</td>\n",
       "      <td>0</td>\n",
       "      <td>0</td>\n",
       "      <td>1</td>\n",
       "      <td>0</td>\n",
       "      <td>1</td>\n",
       "      <td>0</td>\n",
       "      <td>1</td>\n",
       "      <td>0</td>\n",
       "      <td>0</td>\n",
       "      <td>...</td>\n",
       "      <td>0</td>\n",
       "      <td>1</td>\n",
       "      <td>0</td>\n",
       "      <td>1</td>\n",
       "      <td>0</td>\n",
       "      <td>0</td>\n",
       "      <td>1</td>\n",
       "      <td>0</td>\n",
       "      <td>0</td>\n",
       "      <td>29.85</td>\n",
       "    </tr>\n",
       "    <tr>\n",
       "      <th>1</th>\n",
       "      <td>2</td>\n",
       "      <td>1</td>\n",
       "      <td>0</td>\n",
       "      <td>0</td>\n",
       "      <td>0</td>\n",
       "      <td>34</td>\n",
       "      <td>1</td>\n",
       "      <td>0</td>\n",
       "      <td>1</td>\n",
       "      <td>0</td>\n",
       "      <td>...</td>\n",
       "      <td>1</td>\n",
       "      <td>0</td>\n",
       "      <td>0</td>\n",
       "      <td>1</td>\n",
       "      <td>0</td>\n",
       "      <td>0</td>\n",
       "      <td>0</td>\n",
       "      <td>1</td>\n",
       "      <td>0</td>\n",
       "      <td>56.95</td>\n",
       "    </tr>\n",
       "    <tr>\n",
       "      <th>2</th>\n",
       "      <td>3</td>\n",
       "      <td>1</td>\n",
       "      <td>0</td>\n",
       "      <td>0</td>\n",
       "      <td>0</td>\n",
       "      <td>2</td>\n",
       "      <td>1</td>\n",
       "      <td>1</td>\n",
       "      <td>0</td>\n",
       "      <td>0</td>\n",
       "      <td>...</td>\n",
       "      <td>1</td>\n",
       "      <td>0</td>\n",
       "      <td>0</td>\n",
       "      <td>1</td>\n",
       "      <td>0</td>\n",
       "      <td>0</td>\n",
       "      <td>1</td>\n",
       "      <td>0</td>\n",
       "      <td>0</td>\n",
       "      <td>53.85</td>\n",
       "    </tr>\n",
       "    <tr>\n",
       "      <th>3</th>\n",
       "      <td>4</td>\n",
       "      <td>1</td>\n",
       "      <td>0</td>\n",
       "      <td>0</td>\n",
       "      <td>0</td>\n",
       "      <td>45</td>\n",
       "      <td>1</td>\n",
       "      <td>0</td>\n",
       "      <td>1</td>\n",
       "      <td>1</td>\n",
       "      <td>...</td>\n",
       "      <td>0</td>\n",
       "      <td>1</td>\n",
       "      <td>0</td>\n",
       "      <td>1</td>\n",
       "      <td>0</td>\n",
       "      <td>0</td>\n",
       "      <td>0</td>\n",
       "      <td>1</td>\n",
       "      <td>0</td>\n",
       "      <td>42.30</td>\n",
       "    </tr>\n",
       "    <tr>\n",
       "      <th>4</th>\n",
       "      <td>5</td>\n",
       "      <td>0</td>\n",
       "      <td>0</td>\n",
       "      <td>0</td>\n",
       "      <td>0</td>\n",
       "      <td>2</td>\n",
       "      <td>0</td>\n",
       "      <td>0</td>\n",
       "      <td>0</td>\n",
       "      <td>0</td>\n",
       "      <td>...</td>\n",
       "      <td>1</td>\n",
       "      <td>0</td>\n",
       "      <td>0</td>\n",
       "      <td>0</td>\n",
       "      <td>1</td>\n",
       "      <td>0</td>\n",
       "      <td>1</td>\n",
       "      <td>0</td>\n",
       "      <td>0</td>\n",
       "      <td>70.70</td>\n",
       "    </tr>\n",
       "  </tbody>\n",
       "</table>\n",
       "<p>5 rows × 25 columns</p>\n",
       "</div>"
      ],
      "text/plain": [
       "   customer_num  gender_male  seniorcitizen  partner  dependents  tenure  \\\n",
       "0             1            0              0        1           0       1   \n",
       "1             2            1              0        0           0      34   \n",
       "2             3            1              0        0           0       2   \n",
       "3             4            1              0        0           0      45   \n",
       "4             5            0              0        0           0       2   \n",
       "\n",
       "   onlinesecurity  onlinebackup  deviceprotection  techsupport  ...  \\\n",
       "0               0             1                 0            0  ...   \n",
       "1               1             0                 1            0  ...   \n",
       "2               1             1                 0            0  ...   \n",
       "3               1             0                 1            1  ...   \n",
       "4               0             0                 0            0  ...   \n",
       "\n",
       "   multiplelines_no  multiplelines_no phone service  multiplelines_yes  \\\n",
       "0                 0                               1                  0   \n",
       "1                 1                               0                  0   \n",
       "2                 1                               0                  0   \n",
       "3                 0                               1                  0   \n",
       "4                 1                               0                  0   \n",
       "\n",
       "  internetservice_dsl  internetservice_fiber optic  internetservice_no  \\\n",
       "0                   1                            0                   0   \n",
       "1                   1                            0                   0   \n",
       "2                   1                            0                   0   \n",
       "3                   1                            0                   0   \n",
       "4                   0                            1                   0   \n",
       "\n",
       "   contract_month-to-month  contract_one year  contract_two year  \\\n",
       "0                        1                  0                  0   \n",
       "1                        0                  1                  0   \n",
       "2                        1                  0                  0   \n",
       "3                        0                  1                  0   \n",
       "4                        1                  0                  0   \n",
       "\n",
       "   monthlycharges  \n",
       "0           29.85  \n",
       "1           56.95  \n",
       "2           53.85  \n",
       "3           42.30  \n",
       "4           70.70  \n",
       "\n",
       "[5 rows x 25 columns]"
      ]
     },
     "execution_count": 9,
     "metadata": {},
     "output_type": "execute_result"
    }
   ],
   "source": [
    "dlo = dlo[['customer_num','gender_male', 'seniorcitizen', 'partner', 'dependents', 'tenure',\n",
    "       'onlinesecurity', 'onlinebackup', 'deviceprotection', 'techsupport',\n",
    "       'streamingtv', 'streamingmovies', 'paperlessbilling', 'paymentmethod',\n",
    "         'churn', 'multiplelines_no',\n",
    "       'multiplelines_no phone service', 'multiplelines_yes',\n",
    "       'internetservice_dsl', 'internetservice_fiber optic',\n",
    "       'internetservice_no', 'contract_month-to-month', 'contract_one year',\n",
    "       'contract_two year','monthlycharges']]\n",
    "dlo.head()"
   ]
  },
  {
   "cell_type": "code",
   "execution_count": 10,
   "metadata": {},
   "outputs": [
    {
     "data": {
      "text/plain": [
       "customer_num                      0\n",
       "gender_male                       0\n",
       "seniorcitizen                     0\n",
       "partner                           0\n",
       "dependents                        0\n",
       "tenure                            0\n",
       "onlinesecurity                    0\n",
       "onlinebackup                      0\n",
       "deviceprotection                  0\n",
       "techsupport                       0\n",
       "streamingtv                       0\n",
       "streamingmovies                   0\n",
       "paperlessbilling                  0\n",
       "paymentmethod                     0\n",
       "churn                             0\n",
       "multiplelines_no                  0\n",
       "multiplelines_no phone service    0\n",
       "multiplelines_yes                 0\n",
       "internetservice_dsl               0\n",
       "internetservice_fiber optic       0\n",
       "internetservice_no                0\n",
       "contract_month-to-month           0\n",
       "contract_one year                 0\n",
       "contract_two year                 0\n",
       "monthlycharges                    0\n",
       "dtype: int64"
      ]
     },
     "execution_count": 10,
     "metadata": {},
     "output_type": "execute_result"
    }
   ],
   "source": [
    "dlo.isna().sum()"
   ]
  },
  {
   "cell_type": "code",
   "execution_count": 11,
   "metadata": {},
   "outputs": [],
   "source": [
    "tenure_in_years = pd.cut(dlo.tenure ,bins=[-1,12,24,36,48,60,80],labels=['0','1','2','3','4','5'])\n",
    "dlo.insert(6,'tenure_years',tenure_in_years)"
   ]
  },
  {
   "cell_type": "code",
   "execution_count": 12,
   "metadata": {},
   "outputs": [],
   "source": [
    "dlo['sumofservices'] = dlo.onlinesecurity + dlo.onlinebackup + dlo.deviceprotection + dlo.techsupport + dlo.streamingtv + dlo.streamingmovies"
   ]
  },
  {
   "cell_type": "code",
   "execution_count": 13,
   "metadata": {},
   "outputs": [
    {
     "data": {
      "text/plain": [
       "Text(0, 0.5, 'Percent')"
      ]
     },
     "execution_count": 13,
     "metadata": {},
     "output_type": "execute_result"
    },
    {
     "data": {
      "image/png": "[encoded data removed]",
      "text/plain": [
       "<Figure size 360x360 with 1 Axes>"
      ]
     },
     "metadata": {
      "needs_background": "light"
     },
     "output_type": "display_data"
    }
   ],
   "source": [
    "plt.figure(figsize=(5,5))\n",
    "dlo.churn.value_counts(normalize=True).plot(kind='bar');\n",
    "dlo.churn.value_counts(normalize=True)\n",
    "plt.grid(axis = 'y')\n",
    "f1 = {'family':'serif','color':'red','size':20}\n",
    "f2 = {'family':'serif','color':'darkblue','size':15}\n",
    "plt.title(\"Churn Bar\", fontdict = f1)\n",
    "plt.xlabel(\"Churn\", fontdict = f2)\n",
    "plt.ylabel(\"Percent\", fontdict = f2)"
   ]
  },
  {
   "cell_type": "code",
   "execution_count": 14,
   "metadata": {},
   "outputs": [
    {
     "data": {
      "text/plain": [
       "Text(0, 0.5, 'Percent')"
      ]
     },
     "execution_count": 14,
     "metadata": {},
     "output_type": "execute_result"
    },
    {
     "data": {
      "image/png": "[encoded data removed]",
      "text/plain": [
       "<Figure size 720x360 with 1 Axes>"
      ]
     },
     "metadata": {
      "needs_background": "light"
     },
     "output_type": "display_data"
    }
   ],
   "source": [
    "didchurn = dlo[dlo.churn==1]\n",
    "\n",
    "plt.figure(figsize=(10,5))\n",
    "\n",
    "didchurn.dependents.value_counts(normalize=True).sort_index().plot(kind='bar');\n",
    "didchurn.dependents.value_counts(normalize=True)\n",
    "\n",
    "\n",
    "f1 = {'family':'serif','color':'red','size':20}\n",
    "f2 = {'family':'serif','color':'darkblue','size':15}\n",
    "\n",
    "plt.grid(axis = 'y')\n",
    "plt.title(\"Churn Bar by Dependents\", fontdict = f1)\n",
    "plt.xlabel(\"No Depenedents                                          With Depenedents\", fontdict = f2)\n",
    "plt.ylabel(\"Percent\", fontdict = f2)"
   ]
  },
  {
   "cell_type": "code",
   "execution_count": 15,
   "metadata": {},
   "outputs": [
    {
     "data": {
      "text/plain": [
       "Text(0, 0.5, 'Percent')"
      ]
     },
     "execution_count": 15,
     "metadata": {},
     "output_type": "execute_result"
    },
    {
     "data": {
      "image/png": "[encoded data removed]",
      "text/plain": [
       "<Figure size 504x360 with 1 Axes>"
      ]
     },
     "metadata": {
      "needs_background": "light"
     },
     "output_type": "display_data"
    }
   ],
   "source": [
    "plt.figure(figsize=(7,5))\n",
    "\n",
    "didchurn.tenure_years.value_counts(normalize=True).plot(kind='bar');\n",
    "didchurn.tenure_years.value_counts(normalize=True)\n",
    "\n",
    "\n",
    "f1 = {'family':'serif','color':'red','size':20}\n",
    "f2 = {'family':'serif','color':'darkblue','size':15}\n",
    "\n",
    "plt.grid(axis = 'y')\n",
    "plt.title(\"Churn Bar by Years of Tenure\", fontdict = f1)\n",
    "plt.xlabel(\"tenure_years\", fontdict = f2)\n",
    "plt.ylabel(\"Percent\", fontdict = f2)"
   ]
  },
  {
   "cell_type": "code",
   "execution_count": 16,
   "metadata": {},
   "outputs": [
    {
     "data": {
      "text/plain": [
       "Text(0, 0.5, 'Percent')"
      ]
     },
     "execution_count": 16,
     "metadata": {},
     "output_type": "execute_result"
    },
    {
     "data": {
      "image/png": "[encoded data removed]",
      "text/plain": [
       "<Figure size 1440x720 with 1 Axes>"
      ]
     },
     "metadata": {
      "needs_background": "light"
     },
     "output_type": "display_data"
    }
   ],
   "source": [
    "plt.figure(figsize=(20,10))\n",
    "\n",
    "didchurn.tenure.value_counts(normalize=True).plot(kind='bar');\n",
    "didchurn.tenure.value_counts(normalize=True)\n",
    "\n",
    "\n",
    "f1 = {'family':'serif','color':'red','size':20}\n",
    "f2 = {'family':'serif','color':'darkblue','size':15}\n",
    "\n",
    "plt.grid(axis = 'y')\n",
    "plt.title(\"Churn Bar by Month of Tenure\", fontdict = f1)\n",
    "plt.xlabel(\"tenure_Month\", fontdict = f2)\n",
    "plt.ylabel(\"Percent\", fontdict = f2)"
   ]
  },
  {
   "cell_type": "code",
   "execution_count": 17,
   "metadata": {},
   "outputs": [
    {
     "data": {
      "text/plain": [
       "Text(0, 0.5, 'Percent')"
      ]
     },
     "execution_count": 17,
     "metadata": {},
     "output_type": "execute_result"
    },
    {
     "data": {
      "image/png": "[encoded data removed]",
      "text/plain": [
       "<Figure size 720x360 with 1 Axes>"
      ]
     },
     "metadata": {
      "needs_background": "light"
     },
     "output_type": "display_data"
    }
   ],
   "source": [
    "plt.figure(figsize=(10,5))\n",
    "\n",
    "didchurn.partner.value_counts(normalize=True).sort_index().plot(kind='bar');\n",
    "didchurn.partner.value_counts(normalize=True)\n",
    "\n",
    "\n",
    "f1 = {'family':'serif','color':'red','size':20}\n",
    "f2 = {'family':'serif','color':'darkblue','size':15}\n",
    "\n",
    "plt.grid(axis = 'y')\n",
    "plt.title(\"Churn Bar by Relationship Status\", fontdict = f1)\n",
    "plt.xlabel(\"Single                                                 With Partner\", fontdict = f2)\n",
    "plt.ylabel(\"Percent\", fontdict = f2)"
   ]
  },
  {
   "cell_type": "code",
   "execution_count": 18,
   "metadata": {},
   "outputs": [
    {
     "data": {
      "text/plain": [
       "Text(0, 0.5, 'Percent')"
      ]
     },
     "execution_count": 18,
     "metadata": {},
     "output_type": "execute_result"
    },
    {
     "data": {
      "image/png": "[encoded data removed]",
      "text/plain": [
       "<Figure size 360x360 with 1 Axes>"
      ]
     },
     "metadata": {
      "needs_background": "light"
     },
     "output_type": "display_data"
    }
   ],
   "source": [
    "plt.figure(figsize=(5,5))\n",
    "\n",
    "didchurn.gender_male.value_counts(normalize=True).sort_index().plot(kind='bar');\n",
    "didchurn.gender_male.value_counts(normalize=True)\n",
    "\n",
    "\n",
    "f1 = {'family':'serif','color':'red','size':20}\n",
    "f2 = {'family':'serif','color':'darkblue','size':15}\n",
    "\n",
    "plt.grid(axis = 'y')\n",
    "plt.title(\"Churn Bar by Gender\", fontdict = f1)\n",
    "plt.xlabel(\"Male                      Female\", fontdict = f2)\n",
    "plt.ylabel(\"Percent\", fontdict = f2)"
   ]
  },
  {
   "cell_type": "code",
   "execution_count": 19,
   "metadata": {},
   "outputs": [
    {
     "data": {
      "text/plain": [
       "Text(0, 0.5, 'Percent')"
      ]
     },
     "execution_count": 19,
     "metadata": {},
     "output_type": "execute_result"
    },
    {
     "data": {
      "image/png": "[encoded data removed]",
      "text/plain": [
       "<Figure size 720x360 with 1 Axes>"
      ]
     },
     "metadata": {
      "needs_background": "light"
     },
     "output_type": "display_data"
    }
   ],
   "source": [
    "plt.figure(figsize=(10,5))\n",
    "\n",
    "didchurn.paperlessbilling.value_counts(normalize=True).sort_index().plot(kind='bar');\n",
    "didchurn.paperlessbilling.value_counts(normalize=True)\n",
    "\n",
    "\n",
    "f1 = {'family':'serif','color':'red','size':20}\n",
    "f2 = {'family':'serif','color':'darkblue','size':15}\n",
    "\n",
    "plt.grid(axis = 'y')\n",
    "plt.title(\"Churn Bar by Dependents\", fontdict = f1)\n",
    "plt.xlabel(\"Paper Billing                                          Paperless Billing\", fontdict = f2)\n",
    "plt.ylabel(\"Percent\", fontdict = f2)"
   ]
  },
  {
   "cell_type": "code",
   "execution_count": 20,
   "metadata": {},
   "outputs": [
    {
     "data": {
      "text/plain": [
       "Text(0, 0.5, 'Percent')"
      ]
     },
     "execution_count": 20,
     "metadata": {},
     "output_type": "execute_result"
    },
    {
     "data": {
      "image/png": "[encoded data removed]",
      "text/plain": [
       "<Figure size 720x360 with 1 Axes>"
      ]
     },
     "metadata": {
      "needs_background": "light"
     },
     "output_type": "display_data"
    }
   ],
   "source": [
    "plt.figure(figsize=(10,5))\n",
    "\n",
    "didchurn.sumofservices.value_counts(normalize=True).sort_index().plot(kind='bar');\n",
    "didchurn.sumofservices.value_counts(normalize=True)\n",
    "\n",
    "\n",
    "f1 = {'family':'serif','color':'red','size':20}\n",
    "f2 = {'family':'serif','color':'darkblue','size':15}\n",
    "\n",
    "plt.grid(axis = 'y')\n",
    "plt.title(\"Churn Bar by Number of Services for a Client\", fontdict = f1)\n",
    "plt.xlabel(\"Number of Services per Client\", fontdict = f2)\n",
    "plt.ylabel(\"Percent\", fontdict = f2)"
   ]
  },
  {
   "cell_type": "code",
   "execution_count": 21,
   "metadata": {},
   "outputs": [
    {
     "data": {
      "text/plain": [
       "customer_num                      0.010286\n",
       "gender_male                      -0.008612\n",
       "seniorcitizen                     0.150889\n",
       "partner                          -0.150448\n",
       "dependents                       -0.164221\n",
       "tenure                           -0.352229\n",
       "onlinesecurity                   -0.171226\n",
       "onlinebackup                     -0.082255\n",
       "deviceprotection                 -0.066160\n",
       "techsupport                      -0.164674\n",
       "streamingtv                       0.063228\n",
       "streamingmovies                   0.061382\n",
       "paperlessbilling                  0.191825\n",
       "churn                             1.000000\n",
       "multiplelines_no                 -0.032569\n",
       "multiplelines_no phone service   -0.011942\n",
       "multiplelines_yes                 0.040102\n",
       "internetservice_dsl              -0.124214\n",
       "internetservice_fiber optic       0.308020\n",
       "internetservice_no               -0.227890\n",
       "contract_month-to-month           0.405103\n",
       "contract_one year                -0.177820\n",
       "contract_two year                -0.302253\n",
       "monthlycharges                    0.193356\n",
       "sumofservices                    -0.087698\n",
       "Name: churn, dtype: float64"
      ]
     },
     "execution_count": 21,
     "metadata": {},
     "output_type": "execute_result"
    }
   ],
   "source": [
    "dlo.corr()['churn']"
   ]
  },
  {
   "cell_type": "code",
   "execution_count": 22,
   "metadata": {},
   "outputs": [
    {
     "data": {
      "image/png": "[encoded data removed]",
      "text/plain": [
       "<Figure size 1080x720 with 1 Axes>"
      ]
     },
     "metadata": {
      "needs_background": "light"
     },
     "output_type": "display_data"
    }
   ],
   "source": [
    "plt.figure(figsize=(15,10))\n",
    "\n",
    "f1 = {'family':'serif','color':'red','size':20}\n",
    "f2 = {'family':'serif','color':'darkblue','size':15}\n",
    "\n",
    "\n",
    "plt.title(\"Correlation Between Churn and Features (Absolute Values)\", fontdict = f1)\n",
    "plt.xlabel(\"Correlation\", fontdict = f2)\n",
    "abs(dlo.corr())['churn'].drop('churn').sort_values().plot(kind='barh')\n",
    "plt.grid(axis = 'y')\n",
    "plt.grid(axis = 'x')"
   ]
  },
  {
   "cell_type": "code",
   "execution_count": 23,
   "metadata": {},
   "outputs": [
    {
     "data": {
      "text/plain": [
       "Text(0, 0.5, 'Churn Rate')"
      ]
     },
     "execution_count": 23,
     "metadata": {},
     "output_type": "execute_result"
    },
    {
     "data": {
      "image/png": "[encoded data removed]",
      "text/plain": [
       "<Figure size 360x360 with 1 Axes>"
      ]
     },
     "metadata": {
      "needs_background": "light"
     },
     "output_type": "display_data"
    }
   ],
   "source": [
    "plt.figure(figsize=(5,5))\n",
    "dlo.churn.value_counts(normalize=True).plot(kind='bar');\n",
    "dlo.churn.value_counts(normalize=True)\n",
    "plt.grid(axis = 'y')\n",
    "f1 = {'family':'serif','color':'red','size':20}\n",
    "f2 = {'family':'serif','color':'darkblue','size':15}\n",
    "plt.title(\"Churn rate by all customers\", fontdict = f1)\n",
    "plt.xlabel(\"Did Churn\", fontdict = f2)\n",
    "plt.ylabel(\"Churn Rate\", fontdict = f2)"
   ]
  },
  {
   "cell_type": "code",
   "execution_count": 24,
   "metadata": {},
   "outputs": [
    {
     "data": {
      "text/plain": [
       "customer_num                         int64\n",
       "gender_male                          int64\n",
       "seniorcitizen                        int64\n",
       "partner                              int64\n",
       "dependents                           int64\n",
       "tenure                               int64\n",
       "tenure_years                      category\n",
       "onlinesecurity                       int64\n",
       "onlinebackup                         int64\n",
       "deviceprotection                     int64\n",
       "techsupport                          int64\n",
       "streamingtv                          int64\n",
       "streamingmovies                      int64\n",
       "paperlessbilling                     int64\n",
       "paymentmethod                       object\n",
       "churn                                int64\n",
       "multiplelines_no                     uint8\n",
       "multiplelines_no phone service       uint8\n",
       "multiplelines_yes                    uint8\n",
       "internetservice_dsl                  uint8\n",
       "internetservice_fiber optic          uint8\n",
       "internetservice_no                   uint8\n",
       "contract_month-to-month              uint8\n",
       "contract_one year                    uint8\n",
       "contract_two year                    uint8\n",
       "monthlycharges                     float64\n",
       "sumofservices                        int64\n",
       "dtype: object"
      ]
     },
     "execution_count": 24,
     "metadata": {},
     "output_type": "execute_result"
    }
   ],
   "source": [
    "dlo.dtypes"
   ]
  },
  {
   "cell_type": "code",
   "execution_count": 25,
   "metadata": {},
   "outputs": [
    {
     "data": {
      "text/plain": [
       "paymentmethod\n",
       "Credit card (automatic)      0.152431\n",
       "Bank transfer (automatic)    0.167098\n",
       "Mailed check                 0.191067\n",
       "Electronic check             0.452854\n",
       "Name: churn, dtype: float64"
      ]
     },
     "execution_count": 25,
     "metadata": {},
     "output_type": "execute_result"
    }
   ],
   "source": [
    "# Cut the first letter or if \"Nan\" then \"Missing\"\n",
    "first_letter_or_nan = dlo.paymentmethod.fillna('Missing')\n",
    "dlo.groupby(first_letter_or_nan).churn.mean().sort_values()"
   ]
  },
  {
   "cell_type": "code",
   "execution_count": 26,
   "metadata": {},
   "outputs": [
    {
     "data": {
      "text/plain": [
       "Text(0, 0.5, 'Payment Method')"
      ]
     },
     "execution_count": 26,
     "metadata": {},
     "output_type": "execute_result"
    },
    {
     "data": {
      "image/png": "[encoded data removed]",
      "text/plain": [
       "<Figure size 360x1080 with 1 Axes>"
      ]
     },
     "metadata": {
      "needs_background": "light"
     },
     "output_type": "display_data"
    }
   ],
   "source": [
    "plt.figure(figsize=(5,15))\n",
    "dlo.paymentmethod.value_counts(normalize=True).plot(kind='barh');\n",
    "dlo.paymentmethod.value_counts(normalize=True)\n",
    "plt.grid(axis = 'x')\n",
    "f1 = {'family':'serif','color':'red','size':20}\n",
    "f2 = {'family':'serif','color':'darkblue','size':15}\n",
    "plt.title(\"Churn rate by payment method\", fontdict = f1)\n",
    "plt.xlabel(\"Churn rate\", fontdict = f2)\n",
    "plt.ylabel(\"Payment Method\", fontdict = f2)"
   ]
  },
  {
   "cell_type": "code",
   "execution_count": 27,
   "metadata": {},
   "outputs": [
    {
     "data": {
      "text/plain": [
       "paymentmethod\n",
       "Credit card (automatic)       232\n",
       "Bank transfer (automatic)     258\n",
       "Mailed check                  308\n",
       "Electronic check             1071\n",
       "Name: churn, dtype: int64"
      ]
     },
     "execution_count": 27,
     "metadata": {},
     "output_type": "execute_result"
    }
   ],
   "source": [
    "dlo.groupby(first_letter_or_nan).churn.sum().sort_values()"
   ]
  },
  {
   "cell_type": "code",
   "execution_count": 28,
   "metadata": {},
   "outputs": [
    {
     "data": {
      "text/html": [
       "<div>\n",
       "<style scoped>\n",
       "    .dataframe tbody tr th:only-of-type {\n",
       "        vertical-align: middle;\n",
       "    }\n",
       "\n",
       "    .dataframe tbody tr th {\n",
       "        vertical-align: top;\n",
       "    }\n",
       "\n",
       "    .dataframe thead th {\n",
       "        text-align: right;\n",
       "    }\n",
       "</style>\n",
       "<table border=\"1\" class=\"dataframe\">\n",
       "  <thead>\n",
       "    <tr style=\"text-align: right;\">\n",
       "      <th></th>\n",
       "      <th>customer_num</th>\n",
       "      <th>gender_male</th>\n",
       "      <th>seniorcitizen</th>\n",
       "      <th>partner</th>\n",
       "      <th>dependents</th>\n",
       "      <th>tenure</th>\n",
       "      <th>tenure_years</th>\n",
       "      <th>onlinesecurity</th>\n",
       "      <th>onlinebackup</th>\n",
       "      <th>deviceprotection</th>\n",
       "      <th>...</th>\n",
       "      <th>multiplelines_yes</th>\n",
       "      <th>internetservice_dsl</th>\n",
       "      <th>internetservice_fiber optic</th>\n",
       "      <th>internetservice_no</th>\n",
       "      <th>contract_month-to-month</th>\n",
       "      <th>contract_one year</th>\n",
       "      <th>contract_two year</th>\n",
       "      <th>monthlycharges</th>\n",
       "      <th>sumofservices</th>\n",
       "      <th>has_electronic_check</th>\n",
       "    </tr>\n",
       "  </thead>\n",
       "  <tbody>\n",
       "    <tr>\n",
       "      <th>0</th>\n",
       "      <td>1</td>\n",
       "      <td>0</td>\n",
       "      <td>0</td>\n",
       "      <td>1</td>\n",
       "      <td>0</td>\n",
       "      <td>1</td>\n",
       "      <td>0</td>\n",
       "      <td>0</td>\n",
       "      <td>1</td>\n",
       "      <td>0</td>\n",
       "      <td>...</td>\n",
       "      <td>0</td>\n",
       "      <td>1</td>\n",
       "      <td>0</td>\n",
       "      <td>0</td>\n",
       "      <td>1</td>\n",
       "      <td>0</td>\n",
       "      <td>0</td>\n",
       "      <td>29.85</td>\n",
       "      <td>1</td>\n",
       "      <td>1</td>\n",
       "    </tr>\n",
       "    <tr>\n",
       "      <th>1</th>\n",
       "      <td>2</td>\n",
       "      <td>1</td>\n",
       "      <td>0</td>\n",
       "      <td>0</td>\n",
       "      <td>0</td>\n",
       "      <td>34</td>\n",
       "      <td>2</td>\n",
       "      <td>1</td>\n",
       "      <td>0</td>\n",
       "      <td>1</td>\n",
       "      <td>...</td>\n",
       "      <td>0</td>\n",
       "      <td>1</td>\n",
       "      <td>0</td>\n",
       "      <td>0</td>\n",
       "      <td>0</td>\n",
       "      <td>1</td>\n",
       "      <td>0</td>\n",
       "      <td>56.95</td>\n",
       "      <td>2</td>\n",
       "      <td>0</td>\n",
       "    </tr>\n",
       "    <tr>\n",
       "      <th>2</th>\n",
       "      <td>3</td>\n",
       "      <td>1</td>\n",
       "      <td>0</td>\n",
       "      <td>0</td>\n",
       "      <td>0</td>\n",
       "      <td>2</td>\n",
       "      <td>0</td>\n",
       "      <td>1</td>\n",
       "      <td>1</td>\n",
       "      <td>0</td>\n",
       "      <td>...</td>\n",
       "      <td>0</td>\n",
       "      <td>1</td>\n",
       "      <td>0</td>\n",
       "      <td>0</td>\n",
       "      <td>1</td>\n",
       "      <td>0</td>\n",
       "      <td>0</td>\n",
       "      <td>53.85</td>\n",
       "      <td>2</td>\n",
       "      <td>0</td>\n",
       "    </tr>\n",
       "    <tr>\n",
       "      <th>3</th>\n",
       "      <td>4</td>\n",
       "      <td>1</td>\n",
       "      <td>0</td>\n",
       "      <td>0</td>\n",
       "      <td>0</td>\n",
       "      <td>45</td>\n",
       "      <td>3</td>\n",
       "      <td>1</td>\n",
       "      <td>0</td>\n",
       "      <td>1</td>\n",
       "      <td>...</td>\n",
       "      <td>0</td>\n",
       "      <td>1</td>\n",
       "      <td>0</td>\n",
       "      <td>0</td>\n",
       "      <td>0</td>\n",
       "      <td>1</td>\n",
       "      <td>0</td>\n",
       "      <td>42.30</td>\n",
       "      <td>3</td>\n",
       "      <td>0</td>\n",
       "    </tr>\n",
       "    <tr>\n",
       "      <th>4</th>\n",
       "      <td>5</td>\n",
       "      <td>0</td>\n",
       "      <td>0</td>\n",
       "      <td>0</td>\n",
       "      <td>0</td>\n",
       "      <td>2</td>\n",
       "      <td>0</td>\n",
       "      <td>0</td>\n",
       "      <td>0</td>\n",
       "      <td>0</td>\n",
       "      <td>...</td>\n",
       "      <td>0</td>\n",
       "      <td>0</td>\n",
       "      <td>1</td>\n",
       "      <td>0</td>\n",
       "      <td>1</td>\n",
       "      <td>0</td>\n",
       "      <td>0</td>\n",
       "      <td>70.70</td>\n",
       "      <td>0</td>\n",
       "      <td>1</td>\n",
       "    </tr>\n",
       "  </tbody>\n",
       "</table>\n",
       "<p>5 rows × 27 columns</p>\n",
       "</div>"
      ],
      "text/plain": [
       "   customer_num  gender_male  seniorcitizen  partner  dependents  tenure  \\\n",
       "0             1            0              0        1           0       1   \n",
       "1             2            1              0        0           0      34   \n",
       "2             3            1              0        0           0       2   \n",
       "3             4            1              0        0           0      45   \n",
       "4             5            0              0        0           0       2   \n",
       "\n",
       "  tenure_years  onlinesecurity  onlinebackup  deviceprotection  ...  \\\n",
       "0            0               0             1                 0  ...   \n",
       "1            2               1             0                 1  ...   \n",
       "2            0               1             1                 0  ...   \n",
       "3            3               1             0                 1  ...   \n",
       "4            0               0             0                 0  ...   \n",
       "\n",
       "   multiplelines_yes  internetservice_dsl  internetservice_fiber optic  \\\n",
       "0                  0                    1                            0   \n",
       "1                  0                    1                            0   \n",
       "2                  0                    1                            0   \n",
       "3                  0                    1                            0   \n",
       "4                  0                    0                            1   \n",
       "\n",
       "   internetservice_no  contract_month-to-month  contract_one year  \\\n",
       "0                   0                        1                  0   \n",
       "1                   0                        0                  1   \n",
       "2                   0                        1                  0   \n",
       "3                   0                        0                  1   \n",
       "4                   0                        1                  0   \n",
       "\n",
       "   contract_two year  monthlycharges  sumofservices  has_electronic_check  \n",
       "0                  0           29.85              1                     1  \n",
       "1                  0           56.95              2                     0  \n",
       "2                  0           53.85              2                     0  \n",
       "3                  0           42.30              3                     0  \n",
       "4                  0           70.70              0                     1  \n",
       "\n",
       "[5 rows x 27 columns]"
      ]
     },
     "execution_count": 28,
     "metadata": {},
     "output_type": "execute_result"
    }
   ],
   "source": [
    "dlo['has_electronic_check'] = np.where(dlo['paymentmethod']=='Electronic check',1,0)\n",
    "dlo = dlo.drop(['paymentmethod'], axis=1)\n",
    "dlo.head()"
   ]
  },
  {
   "cell_type": "code",
   "execution_count": 29,
   "metadata": {},
   "outputs": [
    {
     "data": {
      "text/plain": [
       "customer_num                         int64\n",
       "gender_male                          int64\n",
       "seniorcitizen                        int64\n",
       "partner                              int64\n",
       "dependents                           int64\n",
       "tenure                               int64\n",
       "tenure_years                      category\n",
       "onlinesecurity                       int64\n",
       "onlinebackup                         int64\n",
       "deviceprotection                     int64\n",
       "techsupport                          int64\n",
       "streamingtv                          int64\n",
       "streamingmovies                      int64\n",
       "paperlessbilling                     int64\n",
       "churn                                int64\n",
       "multiplelines_no                     uint8\n",
       "multiplelines_no phone service       uint8\n",
       "multiplelines_yes                    uint8\n",
       "internetservice_dsl                  uint8\n",
       "internetservice_fiber optic          uint8\n",
       "internetservice_no                   uint8\n",
       "contract_month-to-month              uint8\n",
       "contract_one year                    uint8\n",
       "contract_two year                    uint8\n",
       "monthlycharges                     float64\n",
       "sumofservices                        int64\n",
       "has_electronic_check                 int32\n",
       "dtype: object"
      ]
     },
     "execution_count": 29,
     "metadata": {},
     "output_type": "execute_result"
    }
   ],
   "source": [
    "dlo.dtypes"
   ]
  },
  {
   "cell_type": "code",
   "execution_count": 30,
   "metadata": {},
   "outputs": [
    {
     "data": {
      "text/plain": [
       "customer_num                      float64\n",
       "gender_male                       float64\n",
       "seniorcitizen                     float64\n",
       "partner                           float64\n",
       "dependents                        float64\n",
       "tenure                            float64\n",
       "tenure_years                      float64\n",
       "onlinesecurity                    float64\n",
       "onlinebackup                      float64\n",
       "deviceprotection                  float64\n",
       "techsupport                       float64\n",
       "streamingtv                       float64\n",
       "streamingmovies                   float64\n",
       "paperlessbilling                  float64\n",
       "churn                             float64\n",
       "multiplelines_no                  float64\n",
       "multiplelines_no phone service    float64\n",
       "multiplelines_yes                 float64\n",
       "internetservice_dsl               float64\n",
       "internetservice_fiber optic       float64\n",
       "internetservice_no                float64\n",
       "contract_month-to-month           float64\n",
       "contract_one year                 float64\n",
       "contract_two year                 float64\n",
       "monthlycharges                    float64\n",
       "sumofservices                     float64\n",
       "has_electronic_check              float64\n",
       "dtype: object"
      ]
     },
     "execution_count": 30,
     "metadata": {},
     "output_type": "execute_result"
    }
   ],
   "source": [
    "dlo = dlo.astype(float)\n",
    "dlo.dtypes"
   ]
  },
  {
   "cell_type": "markdown",
   "metadata": {},
   "source": [
    "############################################################################################\n",
    "\n",
    "# ALGO!!!\n",
    "\n",
    "############################################################################################"
   ]
  },
  {
   "cell_type": "markdown",
   "metadata": {},
   "source": [
    "# Train / Test Split"
   ]
  },
  {
   "cell_type": "code",
   "execution_count": 31,
   "metadata": {},
   "outputs": [
    {
     "data": {
      "text/plain": [
       "(7043, 27)"
      ]
     },
     "execution_count": 31,
     "metadata": {},
     "output_type": "execute_result"
    }
   ],
   "source": [
    "dlo.shape"
   ]
  },
  {
   "cell_type": "code",
   "execution_count": 32,
   "metadata": {},
   "outputs": [],
   "source": [
    "from sklearn.model_selection import train_test_split\n",
    "test_size = 1400\n",
    "train, test = train_test_split(dlo, test_size=test_size, random_state=0, shuffle=True)\n",
    "\n",
    "label = 'churn'\n",
    "psn = 'customer_num' ### New\n",
    "\n",
    "x_train = train.drop(label, axis=1)\n",
    "x_train = x_train.drop(psn, axis=1) ### New\n",
    "y_train = train[label]\n",
    "psn_train = train[psn] ### New\n",
    "\n",
    "x_test = test.drop(label, axis=1)\n",
    "x_test = x_test.drop(psn, axis=1) ### New\n",
    "y_test = test[label]\n",
    "psn_test = test[psn] ### New"
   ]
  },
  {
   "cell_type": "code",
   "execution_count": 33,
   "metadata": {},
   "outputs": [
    {
     "data": {
      "text/plain": [
       "((5643, 25), (5643,), (5643,), (1400, 25), (1400,), (1400,))"
      ]
     },
     "execution_count": 33,
     "metadata": {},
     "output_type": "execute_result"
    }
   ],
   "source": [
    "x_train.shape, y_train.shape, psn_train.shape, x_test.shape, y_test.shape, psn_test.shape"
   ]
  },
  {
   "cell_type": "markdown",
   "metadata": {},
   "source": [
    "# Decision Tree"
   ]
  },
  {
   "cell_type": "code",
   "execution_count": 34,
   "metadata": {},
   "outputs": [],
   "source": [
    "from sklearn.tree import DecisionTreeClassifier\n",
    "clf = DecisionTreeClassifier(max_depth=3)\n",
    "clf.fit(x_train, y_train)\n",
    "y_test_pred_DecisionTree = clf.predict(x_test) \n",
    "\n",
    "output = pd.DataFrame({'customer_num': psn_test, 'churn_what_actualy_happened':y_test, 'churn_predicted_by_model': y_test_pred_DecisionTree})\n",
    "output.to_csv('my_DecisionTree_Prediction.csv', index=False) "
   ]
  },
  {
   "cell_type": "code",
   "execution_count": 35,
   "metadata": {},
   "outputs": [
    {
     "data": {
      "image/svg+xml": [
       "<svg xmlns=\"http://www.w3.org/2000/svg\" xmlns:xlink=\"http://www.w3.org/1999/xlink\" width=\"1058pt\" height=\"433pt\" viewBox=\"0.00 0.00 1058.00 433.00\">\n",
       "<g id=\"graph0\" class=\"graph\" transform=\"scale(1 1) rotate(0) translate(4 429)\">\n",
       "<title>Tree</title>\n",
       "<polygon fill=\"white\" stroke=\"none\" points=\"-4,4 -4,-429 1054,-429 1054,4 -4,4\"/>\n",
       "<!-- 0 -->\n",
       "<g id=\"node1\" class=\"node\"><title>0</title>\n",
       "<polygon fill=\"#eeaf81\" stroke=\"black\" points=\"617,-425 415,-425 415,-342 617,-342 617,-425\"/>\n",
       "<text text-anchor=\"middle\" x=\"516\" y=\"-409.8\" font-family=\"Times New Roman,serif\" font-size=\"14.00\">contract_month-to-month &lt;= 0.5</text>\n",
       "<text text-anchor=\"middle\" x=\"516\" y=\"-394.8\" font-family=\"Times New Roman,serif\" font-size=\"14.00\">gini = 0.391</text>\n",
       "<text text-anchor=\"middle\" x=\"516\" y=\"-379.8\" font-family=\"Times New Roman,serif\" font-size=\"14.00\">samples = 5643</text>\n",
       "<text text-anchor=\"middle\" x=\"516\" y=\"-364.8\" font-family=\"Times New Roman,serif\" font-size=\"14.00\">value = [4138, 1505]</text>\n",
       "<text text-anchor=\"middle\" x=\"516\" y=\"-349.8\" font-family=\"Times New Roman,serif\" font-size=\"14.00\">class = stay</text>\n",
       "</g>\n",
       "<!-- 1 -->\n",
       "<g id=\"node2\" class=\"node\"><title>1</title>\n",
       "<polygon fill=\"#e78a47\" stroke=\"black\" points=\"495,-306 329,-306 329,-223 495,-223 495,-306\"/>\n",
       "<text text-anchor=\"middle\" x=\"412\" y=\"-290.8\" font-family=\"Times New Roman,serif\" font-size=\"14.00\">monthlycharges &lt;= 93.675</text>\n",
       "<text text-anchor=\"middle\" x=\"412\" y=\"-275.8\" font-family=\"Times New Roman,serif\" font-size=\"14.00\">gini = 0.12</text>\n",
       "<text text-anchor=\"middle\" x=\"412\" y=\"-260.8\" font-family=\"Times New Roman,serif\" font-size=\"14.00\">samples = 2522</text>\n",
       "<text text-anchor=\"middle\" x=\"412\" y=\"-245.8\" font-family=\"Times New Roman,serif\" font-size=\"14.00\">value = [2361, 161]</text>\n",
       "<text text-anchor=\"middle\" x=\"412\" y=\"-230.8\" font-family=\"Times New Roman,serif\" font-size=\"14.00\">class = stay</text>\n",
       "</g>\n",
       "<!-- 0&#45;&gt;1 -->\n",
       "<g id=\"edge1\" class=\"edge\"><title>0-&gt;1</title>\n",
       "<path fill=\"none\" stroke=\"black\" d=\"M479.918,-341.907C471.851,-332.832 463.219,-323.121 454.906,-313.769\"/>\n",
       "<polygon fill=\"black\" stroke=\"black\" points=\"457.278,-311.17 448.018,-306.021 452.046,-315.82 457.278,-311.17\"/>\n",
       "<text text-anchor=\"middle\" x=\"446.55\" y=\"-327.278\" font-family=\"Times New Roman,serif\" font-size=\"14.00\">True</text>\n",
       "</g>\n",
       "<!-- 8 -->\n",
       "<g id=\"node9\" class=\"node\"><title>8</title>\n",
       "<polygon fill=\"#f9e0cf\" stroke=\"black\" points=\"722.5,-306 519.5,-306 519.5,-223 722.5,-223 722.5,-306\"/>\n",
       "<text text-anchor=\"middle\" x=\"621\" y=\"-290.8\" font-family=\"Times New Roman,serif\" font-size=\"14.00\">internetservice_fiber optic &lt;= 0.5</text>\n",
       "<text text-anchor=\"middle\" x=\"621\" y=\"-275.8\" font-family=\"Times New Roman,serif\" font-size=\"14.00\">gini = 0.49</text>\n",
       "<text text-anchor=\"middle\" x=\"621\" y=\"-260.8\" font-family=\"Times New Roman,serif\" font-size=\"14.00\">samples = 3121</text>\n",
       "<text text-anchor=\"middle\" x=\"621\" y=\"-245.8\" font-family=\"Times New Roman,serif\" font-size=\"14.00\">value = [1777, 1344]</text>\n",
       "<text text-anchor=\"middle\" x=\"621\" y=\"-230.8\" font-family=\"Times New Roman,serif\" font-size=\"14.00\">class = stay</text>\n",
       "</g>\n",
       "<!-- 0&#45;&gt;8 -->\n",
       "<g id=\"edge8\" class=\"edge\"><title>0-&gt;8</title>\n",
       "<path fill=\"none\" stroke=\"black\" d=\"M552.429,-341.907C560.655,-332.742 569.463,-322.927 577.933,-313.489\"/>\n",
       "<polygon fill=\"black\" stroke=\"black\" points=\"580.561,-315.801 584.635,-306.021 575.351,-311.126 580.561,-315.801\"/>\n",
       "<text text-anchor=\"middle\" x=\"585.985\" y=\"-327.284\" font-family=\"Times New Roman,serif\" font-size=\"14.00\">False</text>\n",
       "</g>\n",
       "<!-- 2 -->\n",
       "<g id=\"node3\" class=\"node\"><title>2</title>\n",
       "<polygon fill=\"#e68640\" stroke=\"black\" points=\"271,-187 113,-187 113,-104 271,-104 271,-187\"/>\n",
       "<text text-anchor=\"middle\" x=\"192\" y=\"-171.8\" font-family=\"Times New Roman,serif\" font-size=\"14.00\">contract_one year &lt;= 0.5</text>\n",
       "<text text-anchor=\"middle\" x=\"192\" y=\"-156.8\" font-family=\"Times New Roman,serif\" font-size=\"14.00\">gini = 0.07</text>\n",
       "<text text-anchor=\"middle\" x=\"192\" y=\"-141.8\" font-family=\"Times New Roman,serif\" font-size=\"14.00\">samples = 1903</text>\n",
       "<text text-anchor=\"middle\" x=\"192\" y=\"-126.8\" font-family=\"Times New Roman,serif\" font-size=\"14.00\">value = [1834, 69]</text>\n",
       "<text text-anchor=\"middle\" x=\"192\" y=\"-111.8\" font-family=\"Times New Roman,serif\" font-size=\"14.00\">class = stay</text>\n",
       "</g>\n",
       "<!-- 1&#45;&gt;2 -->\n",
       "<g id=\"edge2\" class=\"edge\"><title>1-&gt;2</title>\n",
       "<path fill=\"none\" stroke=\"black\" d=\"M335.672,-222.907C316.816,-212.879 296.499,-202.075 277.249,-191.837\"/>\n",
       "<polygon fill=\"black\" stroke=\"black\" points=\"278.665,-188.626 268.193,-187.021 275.379,-194.807 278.665,-188.626\"/>\n",
       "</g>\n",
       "<!-- 5 -->\n",
       "<g id=\"node6\" class=\"node\"><title>5</title>\n",
       "<polygon fill=\"#ea975c\" stroke=\"black\" points=\"491,-187 333,-187 333,-104 491,-104 491,-187\"/>\n",
       "<text text-anchor=\"middle\" x=\"412\" y=\"-171.8\" font-family=\"Times New Roman,serif\" font-size=\"14.00\">contract_one year &lt;= 0.5</text>\n",
       "<text text-anchor=\"middle\" x=\"412\" y=\"-156.8\" font-family=\"Times New Roman,serif\" font-size=\"14.00\">gini = 0.253</text>\n",
       "<text text-anchor=\"middle\" x=\"412\" y=\"-141.8\" font-family=\"Times New Roman,serif\" font-size=\"14.00\">samples = 619</text>\n",
       "<text text-anchor=\"middle\" x=\"412\" y=\"-126.8\" font-family=\"Times New Roman,serif\" font-size=\"14.00\">value = [527, 92]</text>\n",
       "<text text-anchor=\"middle\" x=\"412\" y=\"-111.8\" font-family=\"Times New Roman,serif\" font-size=\"14.00\">class = stay</text>\n",
       "</g>\n",
       "<!-- 1&#45;&gt;5 -->\n",
       "<g id=\"edge5\" class=\"edge\"><title>1-&gt;5</title>\n",
       "<path fill=\"none\" stroke=\"black\" d=\"M412,-222.907C412,-214.649 412,-205.864 412,-197.302\"/>\n",
       "<polygon fill=\"black\" stroke=\"black\" points=\"415.5,-197.021 412,-187.021 408.5,-197.021 415.5,-197.021\"/>\n",
       "</g>\n",
       "<!-- 3 -->\n",
       "<g id=\"node4\" class=\"node\"><title>3</title>\n",
       "<polygon fill=\"#e5833c\" stroke=\"black\" points=\"118,-68 0,-68 0,-0 118,-0 118,-68\"/>\n",
       "<text text-anchor=\"middle\" x=\"59\" y=\"-52.8\" font-family=\"Times New Roman,serif\" font-size=\"14.00\">gini = 0.029</text>\n",
       "<text text-anchor=\"middle\" x=\"59\" y=\"-37.8\" font-family=\"Times New Roman,serif\" font-size=\"14.00\">samples = 1035</text>\n",
       "<text text-anchor=\"middle\" x=\"59\" y=\"-22.8\" font-family=\"Times New Roman,serif\" font-size=\"14.00\">value = [1020, 15]</text>\n",
       "<text text-anchor=\"middle\" x=\"59\" y=\"-7.8\" font-family=\"Times New Roman,serif\" font-size=\"14.00\">class = stay</text>\n",
       "</g>\n",
       "<!-- 2&#45;&gt;3 -->\n",
       "<g id=\"edge3\" class=\"edge\"><title>2-&gt;3</title>\n",
       "<path fill=\"none\" stroke=\"black\" d=\"M142.476,-103.726C130.954,-94.2406 118.704,-84.1551 107.239,-74.7159\"/>\n",
       "<polygon fill=\"black\" stroke=\"black\" points=\"109.391,-71.9536 99.4461,-68.2996 104.942,-77.3577 109.391,-71.9536\"/>\n",
       "</g>\n",
       "<!-- 4 -->\n",
       "<g id=\"node5\" class=\"node\"><title>4</title>\n",
       "<polygon fill=\"#e78946\" stroke=\"black\" points=\"247.5,-68 136.5,-68 136.5,-0 247.5,-0 247.5,-68\"/>\n",
       "<text text-anchor=\"middle\" x=\"192\" y=\"-52.8\" font-family=\"Times New Roman,serif\" font-size=\"14.00\">gini = 0.117</text>\n",
       "<text text-anchor=\"middle\" x=\"192\" y=\"-37.8\" font-family=\"Times New Roman,serif\" font-size=\"14.00\">samples = 868</text>\n",
       "<text text-anchor=\"middle\" x=\"192\" y=\"-22.8\" font-family=\"Times New Roman,serif\" font-size=\"14.00\">value = [814, 54]</text>\n",
       "<text text-anchor=\"middle\" x=\"192\" y=\"-7.8\" font-family=\"Times New Roman,serif\" font-size=\"14.00\">class = stay</text>\n",
       "</g>\n",
       "<!-- 2&#45;&gt;4 -->\n",
       "<g id=\"edge4\" class=\"edge\"><title>2-&gt;4</title>\n",
       "<path fill=\"none\" stroke=\"black\" d=\"M192,-103.726C192,-95.5175 192,-86.8595 192,-78.56\"/>\n",
       "<polygon fill=\"black\" stroke=\"black\" points=\"195.5,-78.2996 192,-68.2996 188.5,-78.2996 195.5,-78.2996\"/>\n",
       "</g>\n",
       "<!-- 6 -->\n",
       "<g id=\"node7\" class=\"node\"><title>6</title>\n",
       "<polygon fill=\"#e78b49\" stroke=\"black\" points=\"376.5,-68 265.5,-68 265.5,-0 376.5,-0 376.5,-68\"/>\n",
       "<text text-anchor=\"middle\" x=\"321\" y=\"-52.8\" font-family=\"Times New Roman,serif\" font-size=\"14.00\">gini = 0.141</text>\n",
       "<text text-anchor=\"middle\" x=\"321\" y=\"-37.8\" font-family=\"Times New Roman,serif\" font-size=\"14.00\">samples = 301</text>\n",
       "<text text-anchor=\"middle\" x=\"321\" y=\"-22.8\" font-family=\"Times New Roman,serif\" font-size=\"14.00\">value = [278, 23]</text>\n",
       "<text text-anchor=\"middle\" x=\"321\" y=\"-7.8\" font-family=\"Times New Roman,serif\" font-size=\"14.00\">class = stay</text>\n",
       "</g>\n",
       "<!-- 5&#45;&gt;6 -->\n",
       "<g id=\"edge6\" class=\"edge\"><title>5-&gt;6</title>\n",
       "<path fill=\"none\" stroke=\"black\" d=\"M378.115,-103.726C370.611,-94.6966 362.655,-85.1235 355.141,-76.0816\"/>\n",
       "<polygon fill=\"black\" stroke=\"black\" points=\"357.757,-73.7534 348.674,-68.2996 352.373,-78.2275 357.757,-73.7534\"/>\n",
       "</g>\n",
       "<!-- 7 -->\n",
       "<g id=\"node8\" class=\"node\"><title>7</title>\n",
       "<polygon fill=\"#eca470\" stroke=\"black\" points=\"505.5,-68 394.5,-68 394.5,-0 505.5,-0 505.5,-68\"/>\n",
       "<text text-anchor=\"middle\" x=\"450\" y=\"-52.8\" font-family=\"Times New Roman,serif\" font-size=\"14.00\">gini = 0.34</text>\n",
       "<text text-anchor=\"middle\" x=\"450\" y=\"-37.8\" font-family=\"Times New Roman,serif\" font-size=\"14.00\">samples = 318</text>\n",
       "<text text-anchor=\"middle\" x=\"450\" y=\"-22.8\" font-family=\"Times New Roman,serif\" font-size=\"14.00\">value = [249, 69]</text>\n",
       "<text text-anchor=\"middle\" x=\"450\" y=\"-7.8\" font-family=\"Times New Roman,serif\" font-size=\"14.00\">class = stay</text>\n",
       "</g>\n",
       "<!-- 5&#45;&gt;7 -->\n",
       "<g id=\"edge7\" class=\"edge\"><title>5-&gt;7</title>\n",
       "<path fill=\"none\" stroke=\"black\" d=\"M426.15,-103.726C429.062,-95.3351 432.137,-86.4745 435.075,-78.0072\"/>\n",
       "<polygon fill=\"black\" stroke=\"black\" points=\"438.472,-78.8944 438.444,-68.2996 431.859,-76.5994 438.472,-78.8944\"/>\n",
       "</g>\n",
       "<!-- 9 -->\n",
       "<g id=\"node10\" class=\"node\"><title>9</title>\n",
       "<polygon fill=\"#efb388\" stroke=\"black\" points=\"683.5,-187 558.5,-187 558.5,-104 683.5,-104 683.5,-187\"/>\n",
       "<text text-anchor=\"middle\" x=\"621\" y=\"-171.8\" font-family=\"Times New Roman,serif\" font-size=\"14.00\">tenure &lt;= 4.5</text>\n",
       "<text text-anchor=\"middle\" x=\"621\" y=\"-156.8\" font-family=\"Times New Roman,serif\" font-size=\"14.00\">gini = 0.408</text>\n",
       "<text text-anchor=\"middle\" x=\"621\" y=\"-141.8\" font-family=\"Times New Roman,serif\" font-size=\"14.00\">samples = 1402</text>\n",
       "<text text-anchor=\"middle\" x=\"621\" y=\"-126.8\" font-family=\"Times New Roman,serif\" font-size=\"14.00\">value = [1002, 400]</text>\n",
       "<text text-anchor=\"middle\" x=\"621\" y=\"-111.8\" font-family=\"Times New Roman,serif\" font-size=\"14.00\">class = stay</text>\n",
       "</g>\n",
       "<!-- 8&#45;&gt;9 -->\n",
       "<g id=\"edge9\" class=\"edge\"><title>8-&gt;9</title>\n",
       "<path fill=\"none\" stroke=\"black\" d=\"M621,-222.907C621,-214.649 621,-205.864 621,-197.302\"/>\n",
       "<polygon fill=\"black\" stroke=\"black\" points=\"624.5,-197.021 621,-187.021 617.5,-197.021 624.5,-197.021\"/>\n",
       "</g>\n",
       "<!-- 12 -->\n",
       "<g id=\"node13\" class=\"node\"><title>12</title>\n",
       "<polygon fill=\"#dcedfa\" stroke=\"black\" points=\"914,-187 796,-187 796,-104 914,-104 914,-187\"/>\n",
       "<text text-anchor=\"middle\" x=\"855\" y=\"-171.8\" font-family=\"Times New Roman,serif\" font-size=\"14.00\">tenure &lt;= 13.5</text>\n",
       "<text text-anchor=\"middle\" x=\"855\" y=\"-156.8\" font-family=\"Times New Roman,serif\" font-size=\"14.00\">gini = 0.495</text>\n",
       "<text text-anchor=\"middle\" x=\"855\" y=\"-141.8\" font-family=\"Times New Roman,serif\" font-size=\"14.00\">samples = 1719</text>\n",
       "<text text-anchor=\"middle\" x=\"855\" y=\"-126.8\" font-family=\"Times New Roman,serif\" font-size=\"14.00\">value = [775, 944]</text>\n",
       "<text text-anchor=\"middle\" x=\"855\" y=\"-111.8\" font-family=\"Times New Roman,serif\" font-size=\"14.00\">class = churned</text>\n",
       "</g>\n",
       "<!-- 8&#45;&gt;12 -->\n",
       "<g id=\"edge12\" class=\"edge\"><title>8-&gt;12</title>\n",
       "<path fill=\"none\" stroke=\"black\" d=\"M702.185,-222.907C729.698,-209.151 760.134,-193.933 786.555,-180.722\"/>\n",
       "<polygon fill=\"black\" stroke=\"black\" points=\"788.343,-183.742 795.722,-176.139 785.212,-177.481 788.343,-183.742\"/>\n",
       "</g>\n",
       "<!-- 10 -->\n",
       "<g id=\"node11\" class=\"node\"><title>10</title>\n",
       "<polygon fill=\"#f9e4d5\" stroke=\"black\" points=\"642,-68 524,-68 524,-0 642,-0 642,-68\"/>\n",
       "<text text-anchor=\"middle\" x=\"583\" y=\"-52.8\" font-family=\"Times New Roman,serif\" font-size=\"14.00\">gini = 0.493</text>\n",
       "<text text-anchor=\"middle\" x=\"583\" y=\"-37.8\" font-family=\"Times New Roman,serif\" font-size=\"14.00\">samples = 540</text>\n",
       "<text text-anchor=\"middle\" x=\"583\" y=\"-22.8\" font-family=\"Times New Roman,serif\" font-size=\"14.00\">value = [302, 238]</text>\n",
       "<text text-anchor=\"middle\" x=\"583\" y=\"-7.8\" font-family=\"Times New Roman,serif\" font-size=\"14.00\">class = stay</text>\n",
       "</g>\n",
       "<!-- 9&#45;&gt;10 -->\n",
       "<g id=\"edge10\" class=\"edge\"><title>9-&gt;10</title>\n",
       "<path fill=\"none\" stroke=\"black\" d=\"M606.85,-103.726C603.938,-95.3351 600.863,-86.4745 597.925,-78.0072\"/>\n",
       "<polygon fill=\"black\" stroke=\"black\" points=\"601.141,-76.5994 594.556,-68.2996 594.528,-78.8944 601.141,-76.5994\"/>\n",
       "</g>\n",
       "<!-- 11 -->\n",
       "<g id=\"node12\" class=\"node\"><title>11</title>\n",
       "<polygon fill=\"#eb9e67\" stroke=\"black\" points=\"778,-68 660,-68 660,-0 778,-0 778,-68\"/>\n",
       "<text text-anchor=\"middle\" x=\"719\" y=\"-52.8\" font-family=\"Times New Roman,serif\" font-size=\"14.00\">gini = 0.305</text>\n",
       "<text text-anchor=\"middle\" x=\"719\" y=\"-37.8\" font-family=\"Times New Roman,serif\" font-size=\"14.00\">samples = 862</text>\n",
       "<text text-anchor=\"middle\" x=\"719\" y=\"-22.8\" font-family=\"Times New Roman,serif\" font-size=\"14.00\">value = [700, 162]</text>\n",
       "<text text-anchor=\"middle\" x=\"719\" y=\"-7.8\" font-family=\"Times New Roman,serif\" font-size=\"14.00\">class = stay</text>\n",
       "</g>\n",
       "<!-- 9&#45;&gt;11 -->\n",
       "<g id=\"edge11\" class=\"edge\"><title>9-&gt;11</title>\n",
       "<path fill=\"none\" stroke=\"black\" d=\"M657.492,-103.726C665.655,-94.6054 674.314,-84.93 682.478,-75.8078\"/>\n",
       "<polygon fill=\"black\" stroke=\"black\" points=\"685.137,-78.0853 689.198,-68.2996 679.921,-73.417 685.137,-78.0853\"/>\n",
       "</g>\n",
       "<!-- 13 -->\n",
       "<g id=\"node14\" class=\"node\"><title>13</title>\n",
       "<polygon fill=\"#89c4ef\" stroke=\"black\" points=\"914,-68 796,-68 796,-0 914,-0 914,-68\"/>\n",
       "<text text-anchor=\"middle\" x=\"855\" y=\"-52.8\" font-family=\"Times New Roman,serif\" font-size=\"14.00\">gini = 0.409</text>\n",
       "<text text-anchor=\"middle\" x=\"855\" y=\"-37.8\" font-family=\"Times New Roman,serif\" font-size=\"14.00\">samples = 780</text>\n",
       "<text text-anchor=\"middle\" x=\"855\" y=\"-22.8\" font-family=\"Times New Roman,serif\" font-size=\"14.00\">value = [224, 556]</text>\n",
       "<text text-anchor=\"middle\" x=\"855\" y=\"-7.8\" font-family=\"Times New Roman,serif\" font-size=\"14.00\">class = churned</text>\n",
       "</g>\n",
       "<!-- 12&#45;&gt;13 -->\n",
       "<g id=\"edge13\" class=\"edge\"><title>12-&gt;13</title>\n",
       "<path fill=\"none\" stroke=\"black\" d=\"M855,-103.726C855,-95.5175 855,-86.8595 855,-78.56\"/>\n",
       "<polygon fill=\"black\" stroke=\"black\" points=\"858.5,-78.2996 855,-68.2996 851.5,-78.2996 858.5,-78.2996\"/>\n",
       "</g>\n",
       "<!-- 14 -->\n",
       "<g id=\"node15\" class=\"node\"><title>14</title>\n",
       "<polygon fill=\"#f7dac4\" stroke=\"black\" points=\"1050,-68 932,-68 932,-0 1050,-0 1050,-68\"/>\n",
       "<text text-anchor=\"middle\" x=\"991\" y=\"-52.8\" font-family=\"Times New Roman,serif\" font-size=\"14.00\">gini = 0.485</text>\n",
       "<text text-anchor=\"middle\" x=\"991\" y=\"-37.8\" font-family=\"Times New Roman,serif\" font-size=\"14.00\">samples = 939</text>\n",
       "<text text-anchor=\"middle\" x=\"991\" y=\"-22.8\" font-family=\"Times New Roman,serif\" font-size=\"14.00\">value = [551, 388]</text>\n",
       "<text text-anchor=\"middle\" x=\"991\" y=\"-7.8\" font-family=\"Times New Roman,serif\" font-size=\"14.00\">class = stay</text>\n",
       "</g>\n",
       "<!-- 12&#45;&gt;14 -->\n",
       "<g id=\"edge14\" class=\"edge\"><title>12-&gt;14</title>\n",
       "<path fill=\"none\" stroke=\"black\" d=\"M905.641,-103.726C917.423,-94.2406 929.949,-84.1551 941.673,-74.7159\"/>\n",
       "<polygon fill=\"black\" stroke=\"black\" points=\"944.047,-77.2972 949.642,-68.2996 939.657,-71.8448 944.047,-77.2972\"/>\n",
       "</g>\n",
       "</g>\n",
       "</svg>"
      ],
      "text/plain": [
       "<IPython.core.display.SVG object>"
      ]
     },
     "metadata": {},
     "output_type": "display_data"
    }
   ],
   "source": [
    "from sklearn.tree import DecisionTreeClassifier, export_graphviz\n",
    "from IPython.display import SVG\n",
    "from graphviz import Source\n",
    "from IPython.display import display\n",
    "\n",
    "def plot_tree(tree, features, labels):\n",
    "    graph = Source(export_graphviz(tree, feature_names=features, class_names=labels, filled = True))\n",
    "    display(SVG(graph.pipe(format='svg')))\n",
    "\n",
    "plot_tree(clf, x_train.columns, ['stay', 'churned'])"
   ]
  },
  {
   "cell_type": "code",
   "execution_count": 36,
   "metadata": {},
   "outputs": [],
   "source": [
    "from sklearn.metrics import accuracy_score # importing \"accuracy_score\" from \"sklearn.metrics\""
   ]
  },
  {
   "cell_type": "markdown",
   "metadata": {},
   "source": [
    "# Decision Tree Accuracy"
   ]
  },
  {
   "cell_type": "code",
   "execution_count": 37,
   "metadata": {},
   "outputs": [
    {
     "data": {
      "text/plain": [
       "0.7792857142857142"
      ]
     },
     "execution_count": 37,
     "metadata": {},
     "output_type": "execute_result"
    }
   ],
   "source": [
    "# Decision Tree -- max_depth = 3 (like before)\n",
    "\n",
    "clf = DecisionTreeClassifier(max_depth=3)\n",
    "clf.fit(x_train, y_train)\n",
    "y_test_pred_DecisionTree = clf.predict(x_test)\n",
    "test_acc = accuracy_score(y_test, y_test_pred_DecisionTree)\n",
    "test_acc"
   ]
  },
  {
   "cell_type": "code",
   "execution_count": 38,
   "metadata": {},
   "outputs": [
    {
     "data": {
      "text/plain": [
       "0.785"
      ]
     },
     "execution_count": 38,
     "metadata": {},
     "output_type": "execute_result"
    }
   ],
   "source": [
    "# Decision Tree -- max_depth = 5 (like before)\n",
    "\n",
    "clf = DecisionTreeClassifier(max_depth=5)\n",
    "clf.fit(x_train, y_train)\n",
    "y_test_pred_DecisionTree = clf.predict(x_test)\n",
    "test_acc = accuracy_score(y_test, y_test_pred_DecisionTree)\n",
    "test_acc"
   ]
  },
  {
   "cell_type": "code",
   "execution_count": 39,
   "metadata": {},
   "outputs": [
    {
     "data": {
      "text/plain": [
       "0.7407142857142858"
      ]
     },
     "execution_count": 39,
     "metadata": {},
     "output_type": "execute_result"
    }
   ],
   "source": [
    "# Decision Tree -- max_depth = 20 (like before)\n",
    "\n",
    "clf = DecisionTreeClassifier(max_depth=20)\n",
    "clf.fit(x_train, y_train)\n",
    "y_test_pred_DecisionTree = clf.predict(x_test)\n",
    "test_acc = accuracy_score(y_test, y_test_pred_DecisionTree)\n",
    "test_acc"
   ]
  },
  {
   "cell_type": "markdown",
   "metadata": {},
   "source": [
    "# Random Forest"
   ]
  },
  {
   "cell_type": "code",
   "execution_count": 40,
   "metadata": {},
   "outputs": [],
   "source": [
    "from sklearn.ensemble import RandomForestClassifier # Importing the algorithm\n",
    "\n",
    "model = RandomForestClassifier(n_estimators=100, max_depth=3, random_state=1)\n",
    "\n",
    "            \n",
    "model.fit(x_train, y_train) # running\\training the algorithm with the train data\n",
    "\n",
    "y_test_pred_RandomForest = model.predict(x_test) # making a prediction based on \"test\" data features\n",
    "\n",
    "\n",
    "output = pd.DataFrame({'customer_num': psn_test, 'churn_what_actualy_happened':y_test, 'churn_predicted_by_model': y_test_pred_RandomForest}) # saving results to DataFrame\n",
    "output.to_csv('my_RandomForest_Prediction.csv', index=False) # saving results to csv"
   ]
  },
  {
   "cell_type": "code",
   "execution_count": 41,
   "metadata": {},
   "outputs": [
    {
     "data": {
      "text/plain": [
       "array([7.26155064e-05, 4.98511225e-03, 2.46290316e-03, 5.72814649e-03,\n",
       "       1.93240851e-01, 1.11742225e-01, 1.47374091e-02, 1.29298419e-03,\n",
       "       9.02359517e-06, 1.50915509e-02, 3.20770964e-03, 1.39212177e-03,\n",
       "       1.63611465e-02, 1.23296773e-03, 8.64817262e-04, 3.84693057e-03,\n",
       "       1.30620466e-02, 1.29448540e-01, 4.41298770e-02, 2.09376435e-01,\n",
       "       2.60344739e-02, 7.93617853e-02, 4.42625498e-02, 1.01717725e-02,\n",
       "       6.78840059e-02])"
      ]
     },
     "execution_count": 41,
     "metadata": {},
     "output_type": "execute_result"
    }
   ],
   "source": [
    "feature_importances = model.feature_importances_ # applying the method \"feature_importances_\" on the algorithm\n",
    "feature_importances # Every feature importance (%)"
   ]
  },
  {
   "cell_type": "code",
   "execution_count": 42,
   "metadata": {},
   "outputs": [
    {
     "data": {
      "text/html": [
       "<div>\n",
       "<style scoped>\n",
       "    .dataframe tbody tr th:only-of-type {\n",
       "        vertical-align: middle;\n",
       "    }\n",
       "\n",
       "    .dataframe tbody tr th {\n",
       "        vertical-align: top;\n",
       "    }\n",
       "\n",
       "    .dataframe thead th {\n",
       "        text-align: right;\n",
       "    }\n",
       "</style>\n",
       "<table border=\"1\" class=\"dataframe\">\n",
       "  <thead>\n",
       "    <tr style=\"text-align: right;\">\n",
       "      <th></th>\n",
       "      <th>feature</th>\n",
       "      <th>importance</th>\n",
       "    </tr>\n",
       "  </thead>\n",
       "  <tbody>\n",
       "    <tr>\n",
       "      <th>19</th>\n",
       "      <td>contract_month-to-month</td>\n",
       "      <td>0.209376</td>\n",
       "    </tr>\n",
       "    <tr>\n",
       "      <th>4</th>\n",
       "      <td>tenure</td>\n",
       "      <td>0.193241</td>\n",
       "    </tr>\n",
       "    <tr>\n",
       "      <th>17</th>\n",
       "      <td>internetservice_fiber optic</td>\n",
       "      <td>0.129449</td>\n",
       "    </tr>\n",
       "    <tr>\n",
       "      <th>5</th>\n",
       "      <td>tenure_years</td>\n",
       "      <td>0.111742</td>\n",
       "    </tr>\n",
       "    <tr>\n",
       "      <th>21</th>\n",
       "      <td>contract_two year</td>\n",
       "      <td>0.079362</td>\n",
       "    </tr>\n",
       "    <tr>\n",
       "      <th>24</th>\n",
       "      <td>has_electronic_check</td>\n",
       "      <td>0.067884</td>\n",
       "    </tr>\n",
       "    <tr>\n",
       "      <th>22</th>\n",
       "      <td>monthlycharges</td>\n",
       "      <td>0.044263</td>\n",
       "    </tr>\n",
       "    <tr>\n",
       "      <th>18</th>\n",
       "      <td>internetservice_no</td>\n",
       "      <td>0.044130</td>\n",
       "    </tr>\n",
       "    <tr>\n",
       "      <th>20</th>\n",
       "      <td>contract_one year</td>\n",
       "      <td>0.026034</td>\n",
       "    </tr>\n",
       "    <tr>\n",
       "      <th>12</th>\n",
       "      <td>paperlessbilling</td>\n",
       "      <td>0.016361</td>\n",
       "    </tr>\n",
       "    <tr>\n",
       "      <th>9</th>\n",
       "      <td>techsupport</td>\n",
       "      <td>0.015092</td>\n",
       "    </tr>\n",
       "    <tr>\n",
       "      <th>6</th>\n",
       "      <td>onlinesecurity</td>\n",
       "      <td>0.014737</td>\n",
       "    </tr>\n",
       "    <tr>\n",
       "      <th>16</th>\n",
       "      <td>internetservice_dsl</td>\n",
       "      <td>0.013062</td>\n",
       "    </tr>\n",
       "    <tr>\n",
       "      <th>23</th>\n",
       "      <td>sumofservices</td>\n",
       "      <td>0.010172</td>\n",
       "    </tr>\n",
       "    <tr>\n",
       "      <th>3</th>\n",
       "      <td>dependents</td>\n",
       "      <td>0.005728</td>\n",
       "    </tr>\n",
       "    <tr>\n",
       "      <th>1</th>\n",
       "      <td>seniorcitizen</td>\n",
       "      <td>0.004985</td>\n",
       "    </tr>\n",
       "    <tr>\n",
       "      <th>15</th>\n",
       "      <td>multiplelines_yes</td>\n",
       "      <td>0.003847</td>\n",
       "    </tr>\n",
       "    <tr>\n",
       "      <th>10</th>\n",
       "      <td>streamingtv</td>\n",
       "      <td>0.003208</td>\n",
       "    </tr>\n",
       "    <tr>\n",
       "      <th>2</th>\n",
       "      <td>partner</td>\n",
       "      <td>0.002463</td>\n",
       "    </tr>\n",
       "    <tr>\n",
       "      <th>11</th>\n",
       "      <td>streamingmovies</td>\n",
       "      <td>0.001392</td>\n",
       "    </tr>\n",
       "    <tr>\n",
       "      <th>7</th>\n",
       "      <td>onlinebackup</td>\n",
       "      <td>0.001293</td>\n",
       "    </tr>\n",
       "    <tr>\n",
       "      <th>13</th>\n",
       "      <td>multiplelines_no</td>\n",
       "      <td>0.001233</td>\n",
       "    </tr>\n",
       "    <tr>\n",
       "      <th>14</th>\n",
       "      <td>multiplelines_no phone service</td>\n",
       "      <td>0.000865</td>\n",
       "    </tr>\n",
       "    <tr>\n",
       "      <th>0</th>\n",
       "      <td>gender_male</td>\n",
       "      <td>0.000073</td>\n",
       "    </tr>\n",
       "    <tr>\n",
       "      <th>8</th>\n",
       "      <td>deviceprotection</td>\n",
       "      <td>0.000009</td>\n",
       "    </tr>\n",
       "  </tbody>\n",
       "</table>\n",
       "</div>"
      ],
      "text/plain": [
       "                           feature  importance\n",
       "19         contract_month-to-month    0.209376\n",
       "4                           tenure    0.193241\n",
       "17     internetservice_fiber optic    0.129449\n",
       "5                     tenure_years    0.111742\n",
       "21               contract_two year    0.079362\n",
       "24            has_electronic_check    0.067884\n",
       "22                  monthlycharges    0.044263\n",
       "18              internetservice_no    0.044130\n",
       "20               contract_one year    0.026034\n",
       "12                paperlessbilling    0.016361\n",
       "9                      techsupport    0.015092\n",
       "6                   onlinesecurity    0.014737\n",
       "16             internetservice_dsl    0.013062\n",
       "23                   sumofservices    0.010172\n",
       "3                       dependents    0.005728\n",
       "1                    seniorcitizen    0.004985\n",
       "15               multiplelines_yes    0.003847\n",
       "10                     streamingtv    0.003208\n",
       "2                          partner    0.002463\n",
       "11                 streamingmovies    0.001392\n",
       "7                     onlinebackup    0.001293\n",
       "13                multiplelines_no    0.001233\n",
       "14  multiplelines_no phone service    0.000865\n",
       "0                      gender_male    0.000073\n",
       "8                 deviceprotection    0.000009"
      ]
     },
     "execution_count": 42,
     "metadata": {},
     "output_type": "execute_result"
    }
   ],
   "source": [
    "features = x_train.columns # all the features\n",
    "stats = pd.DataFrame({'feature':features, 'importance':feature_importances}) # creating the data frame\n",
    "stats.sort_values('importance', ascending=False) # Sorting the data frame"
   ]
  },
  {
   "cell_type": "code",
   "execution_count": 43,
   "metadata": {},
   "outputs": [
    {
     "data": {
      "image/png": "[encoded data removed]",
      "text/plain": [
       "<Figure size 432x288 with 1 Axes>"
      ]
     },
     "metadata": {
      "needs_background": "light"
     },
     "output_type": "display_data"
    }
   ],
   "source": [
    "stats_sort = stats.sort_values('importance', ascending=True)\n",
    "\n",
    "stats_sort.plot(y='importance', x='feature', kind='barh')\n",
    "plt.grid(axis = 'x')\n",
    "plt.title('Feature Importance of Random Forest');"
   ]
  },
  {
   "cell_type": "markdown",
   "metadata": {},
   "source": [
    "# Random Forest Accuracy"
   ]
  },
  {
   "cell_type": "code",
   "execution_count": 44,
   "metadata": {},
   "outputs": [
    {
     "data": {
      "text/plain": [
       "0.7942857142857143"
      ]
     },
     "execution_count": 44,
     "metadata": {},
     "output_type": "execute_result"
    }
   ],
   "source": [
    "# Random Forest -- n_estimators = 20 & max_depth = 5 (like before)\n",
    "\n",
    "model = RandomForestClassifier(n_estimators=10, max_depth=5, random_state=1)        \n",
    "model.fit(x_train, y_train)\n",
    "y_test_pred_RandomForest = model.predict(x_test)\n",
    "test_acc = accuracy_score(y_test, y_test_pred_RandomForest)\n",
    "test_acc"
   ]
  },
  {
   "cell_type": "code",
   "execution_count": 45,
   "metadata": {},
   "outputs": [
    {
     "data": {
      "text/plain": [
       "0.7885714285714286"
      ]
     },
     "execution_count": 45,
     "metadata": {},
     "output_type": "execute_result"
    }
   ],
   "source": [
    "# Random Forest -- n_estimators = 100 & max_depth = 5 (like before)\n",
    "\n",
    "model = RandomForestClassifier(n_estimators=50, max_depth=5, random_state=1)        \n",
    "model.fit(x_train, y_train)\n",
    "y_test_pred_RandomForest = model.predict(x_test)\n",
    "test_acc = accuracy_score(y_test, y_test_pred_RandomForest)\n",
    "test_acc"
   ]
  },
  {
   "cell_type": "code",
   "execution_count": 46,
   "metadata": {},
   "outputs": [
    {
     "data": {
      "text/plain": [
       "0.7892857142857143"
      ]
     },
     "execution_count": 46,
     "metadata": {},
     "output_type": "execute_result"
    }
   ],
   "source": [
    "# Random Forest -- n_estimators = 200 & max_depth = 5 (like before)\n",
    "\n",
    "model = RandomForestClassifier(n_estimators=100, max_depth=5, random_state=1)        \n",
    "model.fit(x_train, y_train)\n",
    "y_test_pred_RandomForest = model.predict(x_test)\n",
    "test_acc = accuracy_score(y_test, y_test_pred_RandomForest)\n",
    "test_acc"
   ]
  },
  {
   "cell_type": "markdown",
   "metadata": {},
   "source": [
    "# KNN - K Nearest Neighbors"
   ]
  },
  {
   "cell_type": "code",
   "execution_count": 47,
   "metadata": {},
   "outputs": [],
   "source": [
    "from sklearn.neighbors import KNeighborsClassifier  # Importing the algorithm\n",
    "\n",
    "clf = KNeighborsClassifier(n_neighbors=3)\n",
    "        # n_neighbors = number of neighbors\n",
    "        \n",
    "clf.fit(x_train, y_train) # running\\training the algorithm with the train data\n",
    "\n",
    "y_test_pred_Knn = clf.predict(x_test) # making a prediction based on \"test\" data features\n",
    "\n",
    "output = pd.DataFrame({'customer_num': psn_test, 'churn_what_actualy_happened':y_test, 'churn_predicted_by_model': y_test_pred_Knn}) # saving results to DataFrame\n",
    "output.to_csv('my_Knn_Prediction.csv', index=False) # saving results to csv"
   ]
  },
  {
   "cell_type": "markdown",
   "metadata": {},
   "source": [
    "Scaling"
   ]
  },
  {
   "cell_type": "code",
   "execution_count": 48,
   "metadata": {},
   "outputs": [
    {
     "data": {
      "text/plain": [
       "0.7971428571428572"
      ]
     },
     "execution_count": 48,
     "metadata": {},
     "output_type": "execute_result"
    }
   ],
   "source": [
    "from sklearn.preprocessing import StandardScaler # import the libraries\n",
    "\n",
    "scaler = StandardScaler() # define\n",
    "\n",
    "x_train_scaled = scaler.fit_transform(x_train) # Fit to data, then transform it.\n",
    "x_test_scaled = scaler.transform(x_test) # Perform standardization by centering and scaling\n",
    "\n",
    "clf = KNeighborsClassifier(n_neighbors=50)\n",
    "clf.fit(x_train_scaled, y_train)\n",
    "\n",
    "y_test_pred_Knn_Scaled = clf.predict(x_test_scaled)\n",
    "\n",
    "\n",
    "output = pd.DataFrame({'customer_num': psn_test, 'churn_what_actualy_happened':y_test, 'churn_predicted_by_model': y_test_pred_Knn, 'churn_predicted_by_model_scaled':y_test_pred_Knn_Scaled}) # saving results to DataFrame\n",
    "output.to_csv('my_Knn_Prediction_scaled.csv', index=False) # saving results to csv\n",
    "\n",
    "\n",
    "test_acc = accuracy_score(y_test, y_test_pred_Knn_Scaled)\n",
    "test_acc"
   ]
  },
  {
   "cell_type": "markdown",
   "metadata": {},
   "source": [
    "# KNN Accuracy - Not Scaled"
   ]
  },
  {
   "cell_type": "code",
   "execution_count": 49,
   "metadata": {},
   "outputs": [
    {
     "data": {
      "text/plain": [
       "0.7828571428571428"
      ]
     },
     "execution_count": 49,
     "metadata": {},
     "output_type": "execute_result"
    }
   ],
   "source": [
    "# Knn -- n_neighbors = 10 (like before)\n",
    "\n",
    "clf = KNeighborsClassifier(n_neighbors=10)\n",
    "clf.fit(x_train, y_train)\n",
    "y_test_pred_Knn = clf.predict(x_test)\n",
    "test_acc = accuracy_score(y_test, y_test_pred_Knn)\n",
    "test_acc"
   ]
  },
  {
   "cell_type": "code",
   "execution_count": 50,
   "metadata": {},
   "outputs": [
    {
     "data": {
      "text/plain": [
       "0.7757142857142857"
      ]
     },
     "execution_count": 50,
     "metadata": {},
     "output_type": "execute_result"
    }
   ],
   "source": [
    "# Knn -- n_neighbors = 50 (like before)\n",
    "\n",
    "clf = KNeighborsClassifier(n_neighbors=50)\n",
    "clf.fit(x_train, y_train)\n",
    "y_test_pred_Knn = clf.predict(x_test)\n",
    "test_acc = accuracy_score(y_test, y_test_pred_Knn)\n",
    "test_acc"
   ]
  },
  {
   "cell_type": "code",
   "execution_count": 51,
   "metadata": {},
   "outputs": [
    {
     "data": {
      "text/plain": [
       "0.7742857142857142"
      ]
     },
     "execution_count": 51,
     "metadata": {},
     "output_type": "execute_result"
    }
   ],
   "source": [
    "# Knn -- n_neighbors = 100 (like before)\n",
    "\n",
    "clf = KNeighborsClassifier(n_neighbors=100)\n",
    "clf.fit(x_train, y_train)\n",
    "y_test_pred_Knn = clf.predict(x_test)\n",
    "test_acc = accuracy_score(y_test, y_test_pred_Knn)\n",
    "test_acc"
   ]
  },
  {
   "cell_type": "markdown",
   "metadata": {},
   "source": [
    "# KNN Accuracy - Scaled"
   ]
  },
  {
   "cell_type": "code",
   "execution_count": 52,
   "metadata": {},
   "outputs": [
    {
     "data": {
      "text/plain": [
       "0.7778571428571428"
      ]
     },
     "execution_count": 52,
     "metadata": {},
     "output_type": "execute_result"
    }
   ],
   "source": [
    "clf = KNeighborsClassifier(n_neighbors=10)\n",
    "clf.fit(x_train_scaled, y_train)\n",
    "y_test_pred_Knn_Scaled = clf.predict(x_test_scaled)\n",
    "test_acc = accuracy_score(y_test, y_test_pred_Knn_Scaled)\n",
    "test_acc"
   ]
  },
  {
   "cell_type": "code",
   "execution_count": 53,
   "metadata": {},
   "outputs": [
    {
     "data": {
      "text/plain": [
       "0.7971428571428572"
      ]
     },
     "execution_count": 53,
     "metadata": {},
     "output_type": "execute_result"
    }
   ],
   "source": [
    "clf = KNeighborsClassifier(n_neighbors=50)\n",
    "clf.fit(x_train_scaled, y_train)\n",
    "y_test_pred_Knn_Scaled = clf.predict(x_test_scaled)\n",
    "test_acc = accuracy_score(y_test, y_test_pred_Knn_Scaled)\n",
    "test_acc"
   ]
  },
  {
   "cell_type": "code",
   "execution_count": 54,
   "metadata": {},
   "outputs": [
    {
     "data": {
      "text/plain": [
       "0.7914285714285715"
      ]
     },
     "execution_count": 54,
     "metadata": {},
     "output_type": "execute_result"
    }
   ],
   "source": [
    "clf = KNeighborsClassifier(n_neighbors=100)\n",
    "clf.fit(x_train_scaled, y_train)\n",
    "y_test_pred_Knn_Scaled = clf.predict(x_test_scaled)\n",
    "test_acc = accuracy_score(y_test, y_test_pred_Knn_Scaled)\n",
    "test_acc"
   ]
  },
  {
   "cell_type": "markdown",
   "metadata": {},
   "source": [
    "# Evaluation + Benchmark"
   ]
  },
  {
   "cell_type": "code",
   "execution_count": 55,
   "metadata": {},
   "outputs": [
    {
     "data": {
      "text/plain": [
       "0.0    4138\n",
       "1.0    1505\n",
       "Name: churn, dtype: int64"
      ]
     },
     "execution_count": 55,
     "metadata": {},
     "output_type": "execute_result"
    }
   ],
   "source": [
    "y_train.value_counts()"
   ]
  },
  {
   "cell_type": "code",
   "execution_count": 56,
   "metadata": {},
   "outputs": [
    {
     "data": {
      "text/plain": [
       "array([1., 1., 1., ..., 1., 1., 1.])"
      ]
     },
     "execution_count": 56,
     "metadata": {},
     "output_type": "execute_result"
    }
   ],
   "source": [
    "import numpy as np\n",
    "\n",
    "def get_benchmark_predictions(x, benchmark_value): # The function returns a numpy array on the same length as x with all values equal to benchmark_value\n",
    "    return np.ones(len(x))*benchmark_value\n",
    "    \n",
    "\n",
    "benchmark_value = 1\n",
    "\n",
    "y_test_pred_Benchmark = get_benchmark_predictions(x_test, benchmark_value)\n",
    "y_test_pred_Benchmark\n",
    "# Basicly, our benchmark predicts, always 0 (zero) --> Not Survived"
   ]
  },
  {
   "cell_type": "code",
   "execution_count": 57,
   "metadata": {},
   "outputs": [
    {
     "data": {
      "text/plain": [
       "0.26"
      ]
     },
     "execution_count": 57,
     "metadata": {},
     "output_type": "execute_result"
    }
   ],
   "source": [
    "test_acc = accuracy_score(y_test, y_test_pred_Benchmark)\n",
    "test_acc"
   ]
  },
  {
   "cell_type": "markdown",
   "metadata": {},
   "source": [
    "### Our model results:\n",
    "Decision tree best accuracy Result: 82.5%<br>\n",
    "Random Forest best accuracy Result: 84%<br>\n",
    "Knn best accuracy Result (before standardization): 78.5%<br>\n",
    "Knn best accuracy Result (after standardization): 81.5%<br>\n",
    "## The performance on test is 62.5%, we can see, that any of our algorithms beat the benchmark performance"
   ]
  }
 ],
 "metadata": {
  "kernelspec": {
   "display_name": "Python 3",
   "language": "python",
   "name": "python3"
  },
  "language_info": {
   "codemirror_mode": {
    "name": "ipython",
    "version": 3
   },
   "file_extension": ".py",
   "mimetype": "text/x-python",
   "name": "python",
   "nbconvert_exporter": "python",
   "pygments_lexer": "ipython3",
   "version": "3.8.5"
  }
 },
 "nbformat": 4,
 "nbformat_minor": 4
}
